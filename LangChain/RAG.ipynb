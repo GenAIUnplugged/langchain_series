{
  "cells": [
    {
      "cell_type": "markdown",
      "metadata": {
        "id": "view-in-github",
        "colab_type": "text"
      },
      "source": [
        "<a href=\"https://colab.research.google.com/github/GenAIUnplugged/langchain_series/blob/main/LangChain/RAG.ipynb\" target=\"_parent\"><img src=\"https://colab.research.google.com/assets/colab-badge.svg\" alt=\"Open In Colab\"/></a>"
      ]
    },
    {
      "cell_type": "code",
      "execution_count": 95,
      "metadata": {
        "id": "rsA1Il8wzsNP"
      },
      "outputs": [],
      "source": [
        "from google.colab import userdata\n",
        "import os\n",
        "os.environ['OPENAI_API_KEY'] = userdata.get('OPENAI_API_KEY')"
      ]
    },
    {
      "cell_type": "code",
      "source": [
        "!pip install langchain_community langchain_text_splitters langchain_chroma langchain_openai langchain_core langchain_community pypdf"
      ],
      "metadata": {
        "colab": {
          "base_uri": "https://localhost:8080/"
        },
        "id": "uL9oAXhC0PpU",
        "outputId": "098064f3-0096-4431-c4c2-9a5ca1555dae"
      },
      "execution_count": 96,
      "outputs": [
        {
          "output_type": "stream",
          "name": "stdout",
          "text": [
            "Requirement already satisfied: langchain_community in /usr/local/lib/python3.11/dist-packages (0.3.24)\n",
            "Requirement already satisfied: langchain_text_splitters in /usr/local/lib/python3.11/dist-packages (0.3.8)\n",
            "Requirement already satisfied: langchain_chroma in /usr/local/lib/python3.11/dist-packages (0.2.3)\n",
            "Requirement already satisfied: langchain_openai in /usr/local/lib/python3.11/dist-packages (0.3.16)\n",
            "Requirement already satisfied: langchain_core in /usr/local/lib/python3.11/dist-packages (0.3.59)\n",
            "Requirement already satisfied: pypdf in /usr/local/lib/python3.11/dist-packages (5.5.0)\n",
            "Requirement already satisfied: langchain<1.0.0,>=0.3.25 in /usr/local/lib/python3.11/dist-packages (from langchain_community) (0.3.25)\n",
            "Requirement already satisfied: SQLAlchemy<3,>=1.4 in /usr/local/lib/python3.11/dist-packages (from langchain_community) (2.0.40)\n",
            "Requirement already satisfied: requests<3,>=2 in /usr/local/lib/python3.11/dist-packages (from langchain_community) (2.32.3)\n",
            "Requirement already satisfied: PyYAML>=5.3 in /usr/local/lib/python3.11/dist-packages (from langchain_community) (6.0.2)\n",
            "Requirement already satisfied: aiohttp<4.0.0,>=3.8.3 in /usr/local/lib/python3.11/dist-packages (from langchain_community) (3.11.15)\n",
            "Requirement already satisfied: tenacity!=8.4.0,<10,>=8.1.0 in /usr/local/lib/python3.11/dist-packages (from langchain_community) (9.1.2)\n",
            "Requirement already satisfied: dataclasses-json<0.7,>=0.5.7 in /usr/local/lib/python3.11/dist-packages (from langchain_community) (0.6.7)\n",
            "Requirement already satisfied: pydantic-settings<3.0.0,>=2.4.0 in /usr/local/lib/python3.11/dist-packages (from langchain_community) (2.9.1)\n",
            "Requirement already satisfied: langsmith<0.4,>=0.1.125 in /usr/local/lib/python3.11/dist-packages (from langchain_community) (0.3.42)\n",
            "Requirement already satisfied: httpx-sse<1.0.0,>=0.4.0 in /usr/local/lib/python3.11/dist-packages (from langchain_community) (0.4.0)\n",
            "Requirement already satisfied: numpy>=1.26.2 in /usr/local/lib/python3.11/dist-packages (from langchain_community) (2.0.2)\n",
            "Requirement already satisfied: chromadb!=0.5.10,!=0.5.11,!=0.5.12,!=0.5.4,!=0.5.5,!=0.5.7,!=0.5.9,<0.7.0,>=0.4.0 in /usr/local/lib/python3.11/dist-packages (from langchain_chroma) (0.6.3)\n",
            "Requirement already satisfied: openai<2.0.0,>=1.68.2 in /usr/local/lib/python3.11/dist-packages (from langchain_openai) (1.77.0)\n",
            "Requirement already satisfied: tiktoken<1,>=0.7 in /usr/local/lib/python3.11/dist-packages (from langchain_openai) (0.9.0)\n",
            "Requirement already satisfied: jsonpatch<2.0,>=1.33 in /usr/local/lib/python3.11/dist-packages (from langchain_core) (1.33)\n",
            "Requirement already satisfied: packaging<25,>=23.2 in /usr/local/lib/python3.11/dist-packages (from langchain_core) (24.2)\n",
            "Requirement already satisfied: typing-extensions>=4.7 in /usr/local/lib/python3.11/dist-packages (from langchain_core) (4.13.2)\n",
            "Requirement already satisfied: pydantic<3.0.0,>=2.5.2 in /usr/local/lib/python3.11/dist-packages (from langchain_core) (2.11.4)\n",
            "Requirement already satisfied: aiohappyeyeballs>=2.3.0 in /usr/local/lib/python3.11/dist-packages (from aiohttp<4.0.0,>=3.8.3->langchain_community) (2.6.1)\n",
            "Requirement already satisfied: aiosignal>=1.1.2 in /usr/local/lib/python3.11/dist-packages (from aiohttp<4.0.0,>=3.8.3->langchain_community) (1.3.2)\n",
            "Requirement already satisfied: attrs>=17.3.0 in /usr/local/lib/python3.11/dist-packages (from aiohttp<4.0.0,>=3.8.3->langchain_community) (25.3.0)\n",
            "Requirement already satisfied: frozenlist>=1.1.1 in /usr/local/lib/python3.11/dist-packages (from aiohttp<4.0.0,>=3.8.3->langchain_community) (1.6.0)\n",
            "Requirement already satisfied: multidict<7.0,>=4.5 in /usr/local/lib/python3.11/dist-packages (from aiohttp<4.0.0,>=3.8.3->langchain_community) (6.4.3)\n",
            "Requirement already satisfied: propcache>=0.2.0 in /usr/local/lib/python3.11/dist-packages (from aiohttp<4.0.0,>=3.8.3->langchain_community) (0.3.1)\n",
            "Requirement already satisfied: yarl<2.0,>=1.17.0 in /usr/local/lib/python3.11/dist-packages (from aiohttp<4.0.0,>=3.8.3->langchain_community) (1.20.0)\n",
            "Requirement already satisfied: build>=1.0.3 in /usr/local/lib/python3.11/dist-packages (from chromadb!=0.5.10,!=0.5.11,!=0.5.12,!=0.5.4,!=0.5.5,!=0.5.7,!=0.5.9,<0.7.0,>=0.4.0->langchain_chroma) (1.2.2.post1)\n",
            "Requirement already satisfied: chroma-hnswlib==0.7.6 in /usr/local/lib/python3.11/dist-packages (from chromadb!=0.5.10,!=0.5.11,!=0.5.12,!=0.5.4,!=0.5.5,!=0.5.7,!=0.5.9,<0.7.0,>=0.4.0->langchain_chroma) (0.7.6)\n",
            "Requirement already satisfied: fastapi>=0.95.2 in /usr/local/lib/python3.11/dist-packages (from chromadb!=0.5.10,!=0.5.11,!=0.5.12,!=0.5.4,!=0.5.5,!=0.5.7,!=0.5.9,<0.7.0,>=0.4.0->langchain_chroma) (0.115.12)\n",
            "Requirement already satisfied: uvicorn>=0.18.3 in /usr/local/lib/python3.11/dist-packages (from uvicorn[standard]>=0.18.3->chromadb!=0.5.10,!=0.5.11,!=0.5.12,!=0.5.4,!=0.5.5,!=0.5.7,!=0.5.9,<0.7.0,>=0.4.0->langchain_chroma) (0.34.2)\n",
            "Requirement already satisfied: posthog>=2.4.0 in /usr/local/lib/python3.11/dist-packages (from chromadb!=0.5.10,!=0.5.11,!=0.5.12,!=0.5.4,!=0.5.5,!=0.5.7,!=0.5.9,<0.7.0,>=0.4.0->langchain_chroma) (4.0.1)\n",
            "Requirement already satisfied: onnxruntime>=1.14.1 in /usr/local/lib/python3.11/dist-packages (from chromadb!=0.5.10,!=0.5.11,!=0.5.12,!=0.5.4,!=0.5.5,!=0.5.7,!=0.5.9,<0.7.0,>=0.4.0->langchain_chroma) (1.22.0)\n",
            "Requirement already satisfied: opentelemetry-api>=1.2.0 in /usr/local/lib/python3.11/dist-packages (from chromadb!=0.5.10,!=0.5.11,!=0.5.12,!=0.5.4,!=0.5.5,!=0.5.7,!=0.5.9,<0.7.0,>=0.4.0->langchain_chroma) (1.33.0)\n",
            "Requirement already satisfied: opentelemetry-exporter-otlp-proto-grpc>=1.2.0 in /usr/local/lib/python3.11/dist-packages (from chromadb!=0.5.10,!=0.5.11,!=0.5.12,!=0.5.4,!=0.5.5,!=0.5.7,!=0.5.9,<0.7.0,>=0.4.0->langchain_chroma) (1.33.0)\n",
            "Requirement already satisfied: opentelemetry-instrumentation-fastapi>=0.41b0 in /usr/local/lib/python3.11/dist-packages (from chromadb!=0.5.10,!=0.5.11,!=0.5.12,!=0.5.4,!=0.5.5,!=0.5.7,!=0.5.9,<0.7.0,>=0.4.0->langchain_chroma) (0.54b0)\n",
            "Requirement already satisfied: opentelemetry-sdk>=1.2.0 in /usr/local/lib/python3.11/dist-packages (from chromadb!=0.5.10,!=0.5.11,!=0.5.12,!=0.5.4,!=0.5.5,!=0.5.7,!=0.5.9,<0.7.0,>=0.4.0->langchain_chroma) (1.33.0)\n",
            "Requirement already satisfied: tokenizers>=0.13.2 in /usr/local/lib/python3.11/dist-packages (from chromadb!=0.5.10,!=0.5.11,!=0.5.12,!=0.5.4,!=0.5.5,!=0.5.7,!=0.5.9,<0.7.0,>=0.4.0->langchain_chroma) (0.21.1)\n",
            "Requirement already satisfied: pypika>=0.48.9 in /usr/local/lib/python3.11/dist-packages (from chromadb!=0.5.10,!=0.5.11,!=0.5.12,!=0.5.4,!=0.5.5,!=0.5.7,!=0.5.9,<0.7.0,>=0.4.0->langchain_chroma) (0.48.9)\n",
            "Requirement already satisfied: tqdm>=4.65.0 in /usr/local/lib/python3.11/dist-packages (from chromadb!=0.5.10,!=0.5.11,!=0.5.12,!=0.5.4,!=0.5.5,!=0.5.7,!=0.5.9,<0.7.0,>=0.4.0->langchain_chroma) (4.67.1)\n",
            "Requirement already satisfied: overrides>=7.3.1 in /usr/local/lib/python3.11/dist-packages (from chromadb!=0.5.10,!=0.5.11,!=0.5.12,!=0.5.4,!=0.5.5,!=0.5.7,!=0.5.9,<0.7.0,>=0.4.0->langchain_chroma) (7.7.0)\n",
            "Requirement already satisfied: importlib-resources in /usr/local/lib/python3.11/dist-packages (from chromadb!=0.5.10,!=0.5.11,!=0.5.12,!=0.5.4,!=0.5.5,!=0.5.7,!=0.5.9,<0.7.0,>=0.4.0->langchain_chroma) (6.5.2)\n",
            "Requirement already satisfied: grpcio>=1.58.0 in /usr/local/lib/python3.11/dist-packages (from chromadb!=0.5.10,!=0.5.11,!=0.5.12,!=0.5.4,!=0.5.5,!=0.5.7,!=0.5.9,<0.7.0,>=0.4.0->langchain_chroma) (1.71.0)\n",
            "Requirement already satisfied: bcrypt>=4.0.1 in /usr/local/lib/python3.11/dist-packages (from chromadb!=0.5.10,!=0.5.11,!=0.5.12,!=0.5.4,!=0.5.5,!=0.5.7,!=0.5.9,<0.7.0,>=0.4.0->langchain_chroma) (4.3.0)\n",
            "Requirement already satisfied: typer>=0.9.0 in /usr/local/lib/python3.11/dist-packages (from chromadb!=0.5.10,!=0.5.11,!=0.5.12,!=0.5.4,!=0.5.5,!=0.5.7,!=0.5.9,<0.7.0,>=0.4.0->langchain_chroma) (0.15.3)\n",
            "Requirement already satisfied: kubernetes>=28.1.0 in /usr/local/lib/python3.11/dist-packages (from chromadb!=0.5.10,!=0.5.11,!=0.5.12,!=0.5.4,!=0.5.5,!=0.5.7,!=0.5.9,<0.7.0,>=0.4.0->langchain_chroma) (32.0.1)\n",
            "Requirement already satisfied: mmh3>=4.0.1 in /usr/local/lib/python3.11/dist-packages (from chromadb!=0.5.10,!=0.5.11,!=0.5.12,!=0.5.4,!=0.5.5,!=0.5.7,!=0.5.9,<0.7.0,>=0.4.0->langchain_chroma) (5.1.0)\n",
            "Requirement already satisfied: orjson>=3.9.12 in /usr/local/lib/python3.11/dist-packages (from chromadb!=0.5.10,!=0.5.11,!=0.5.12,!=0.5.4,!=0.5.5,!=0.5.7,!=0.5.9,<0.7.0,>=0.4.0->langchain_chroma) (3.10.18)\n",
            "Requirement already satisfied: httpx>=0.27.0 in /usr/local/lib/python3.11/dist-packages (from chromadb!=0.5.10,!=0.5.11,!=0.5.12,!=0.5.4,!=0.5.5,!=0.5.7,!=0.5.9,<0.7.0,>=0.4.0->langchain_chroma) (0.28.1)\n",
            "Requirement already satisfied: rich>=10.11.0 in /usr/local/lib/python3.11/dist-packages (from chromadb!=0.5.10,!=0.5.11,!=0.5.12,!=0.5.4,!=0.5.5,!=0.5.7,!=0.5.9,<0.7.0,>=0.4.0->langchain_chroma) (13.9.4)\n",
            "Requirement already satisfied: marshmallow<4.0.0,>=3.18.0 in /usr/local/lib/python3.11/dist-packages (from dataclasses-json<0.7,>=0.5.7->langchain_community) (3.26.1)\n",
            "Requirement already satisfied: typing-inspect<1,>=0.4.0 in /usr/local/lib/python3.11/dist-packages (from dataclasses-json<0.7,>=0.5.7->langchain_community) (0.9.0)\n",
            "Requirement already satisfied: jsonpointer>=1.9 in /usr/local/lib/python3.11/dist-packages (from jsonpatch<2.0,>=1.33->langchain_core) (3.0.0)\n",
            "Requirement already satisfied: requests-toolbelt<2.0.0,>=1.0.0 in /usr/local/lib/python3.11/dist-packages (from langsmith<0.4,>=0.1.125->langchain_community) (1.0.0)\n",
            "Requirement already satisfied: zstandard<0.24.0,>=0.23.0 in /usr/local/lib/python3.11/dist-packages (from langsmith<0.4,>=0.1.125->langchain_community) (0.23.0)\n",
            "Requirement already satisfied: anyio<5,>=3.5.0 in /usr/local/lib/python3.11/dist-packages (from openai<2.0.0,>=1.68.2->langchain_openai) (4.9.0)\n",
            "Requirement already satisfied: distro<2,>=1.7.0 in /usr/local/lib/python3.11/dist-packages (from openai<2.0.0,>=1.68.2->langchain_openai) (1.9.0)\n",
            "Requirement already satisfied: jiter<1,>=0.4.0 in /usr/local/lib/python3.11/dist-packages (from openai<2.0.0,>=1.68.2->langchain_openai) (0.9.0)\n",
            "Requirement already satisfied: sniffio in /usr/local/lib/python3.11/dist-packages (from openai<2.0.0,>=1.68.2->langchain_openai) (1.3.1)\n",
            "Requirement already satisfied: annotated-types>=0.6.0 in /usr/local/lib/python3.11/dist-packages (from pydantic<3.0.0,>=2.5.2->langchain_core) (0.7.0)\n",
            "Requirement already satisfied: pydantic-core==2.33.2 in /usr/local/lib/python3.11/dist-packages (from pydantic<3.0.0,>=2.5.2->langchain_core) (2.33.2)\n",
            "Requirement already satisfied: typing-inspection>=0.4.0 in /usr/local/lib/python3.11/dist-packages (from pydantic<3.0.0,>=2.5.2->langchain_core) (0.4.0)\n",
            "Requirement already satisfied: python-dotenv>=0.21.0 in /usr/local/lib/python3.11/dist-packages (from pydantic-settings<3.0.0,>=2.4.0->langchain_community) (1.1.0)\n",
            "Requirement already satisfied: charset-normalizer<4,>=2 in /usr/local/lib/python3.11/dist-packages (from requests<3,>=2->langchain_community) (3.4.2)\n",
            "Requirement already satisfied: idna<4,>=2.5 in /usr/local/lib/python3.11/dist-packages (from requests<3,>=2->langchain_community) (3.10)\n",
            "Requirement already satisfied: urllib3<3,>=1.21.1 in /usr/local/lib/python3.11/dist-packages (from requests<3,>=2->langchain_community) (2.4.0)\n",
            "Requirement already satisfied: certifi>=2017.4.17 in /usr/local/lib/python3.11/dist-packages (from requests<3,>=2->langchain_community) (2025.4.26)\n",
            "Requirement already satisfied: greenlet>=1 in /usr/local/lib/python3.11/dist-packages (from SQLAlchemy<3,>=1.4->langchain_community) (3.2.1)\n",
            "Requirement already satisfied: regex>=2022.1.18 in /usr/local/lib/python3.11/dist-packages (from tiktoken<1,>=0.7->langchain_openai) (2024.11.6)\n",
            "Requirement already satisfied: pyproject_hooks in /usr/local/lib/python3.11/dist-packages (from build>=1.0.3->chromadb!=0.5.10,!=0.5.11,!=0.5.12,!=0.5.4,!=0.5.5,!=0.5.7,!=0.5.9,<0.7.0,>=0.4.0->langchain_chroma) (1.2.0)\n",
            "Requirement already satisfied: starlette<0.47.0,>=0.40.0 in /usr/local/lib/python3.11/dist-packages (from fastapi>=0.95.2->chromadb!=0.5.10,!=0.5.11,!=0.5.12,!=0.5.4,!=0.5.5,!=0.5.7,!=0.5.9,<0.7.0,>=0.4.0->langchain_chroma) (0.46.2)\n",
            "Requirement already satisfied: httpcore==1.* in /usr/local/lib/python3.11/dist-packages (from httpx>=0.27.0->chromadb!=0.5.10,!=0.5.11,!=0.5.12,!=0.5.4,!=0.5.5,!=0.5.7,!=0.5.9,<0.7.0,>=0.4.0->langchain_chroma) (1.0.9)\n",
            "Requirement already satisfied: h11>=0.16 in /usr/local/lib/python3.11/dist-packages (from httpcore==1.*->httpx>=0.27.0->chromadb!=0.5.10,!=0.5.11,!=0.5.12,!=0.5.4,!=0.5.5,!=0.5.7,!=0.5.9,<0.7.0,>=0.4.0->langchain_chroma) (0.16.0)\n",
            "Requirement already satisfied: six>=1.9.0 in /usr/local/lib/python3.11/dist-packages (from kubernetes>=28.1.0->chromadb!=0.5.10,!=0.5.11,!=0.5.12,!=0.5.4,!=0.5.5,!=0.5.7,!=0.5.9,<0.7.0,>=0.4.0->langchain_chroma) (1.17.0)\n",
            "Requirement already satisfied: python-dateutil>=2.5.3 in /usr/local/lib/python3.11/dist-packages (from kubernetes>=28.1.0->chromadb!=0.5.10,!=0.5.11,!=0.5.12,!=0.5.4,!=0.5.5,!=0.5.7,!=0.5.9,<0.7.0,>=0.4.0->langchain_chroma) (2.9.0.post0)\n",
            "Requirement already satisfied: google-auth>=1.0.1 in /usr/local/lib/python3.11/dist-packages (from kubernetes>=28.1.0->chromadb!=0.5.10,!=0.5.11,!=0.5.12,!=0.5.4,!=0.5.5,!=0.5.7,!=0.5.9,<0.7.0,>=0.4.0->langchain_chroma) (2.38.0)\n",
            "Requirement already satisfied: websocket-client!=0.40.0,!=0.41.*,!=0.42.*,>=0.32.0 in /usr/local/lib/python3.11/dist-packages (from kubernetes>=28.1.0->chromadb!=0.5.10,!=0.5.11,!=0.5.12,!=0.5.4,!=0.5.5,!=0.5.7,!=0.5.9,<0.7.0,>=0.4.0->langchain_chroma) (1.8.0)\n",
            "Requirement already satisfied: requests-oauthlib in /usr/local/lib/python3.11/dist-packages (from kubernetes>=28.1.0->chromadb!=0.5.10,!=0.5.11,!=0.5.12,!=0.5.4,!=0.5.5,!=0.5.7,!=0.5.9,<0.7.0,>=0.4.0->langchain_chroma) (2.0.0)\n",
            "Requirement already satisfied: oauthlib>=3.2.2 in /usr/local/lib/python3.11/dist-packages (from kubernetes>=28.1.0->chromadb!=0.5.10,!=0.5.11,!=0.5.12,!=0.5.4,!=0.5.5,!=0.5.7,!=0.5.9,<0.7.0,>=0.4.0->langchain_chroma) (3.2.2)\n",
            "Requirement already satisfied: durationpy>=0.7 in /usr/local/lib/python3.11/dist-packages (from kubernetes>=28.1.0->chromadb!=0.5.10,!=0.5.11,!=0.5.12,!=0.5.4,!=0.5.5,!=0.5.7,!=0.5.9,<0.7.0,>=0.4.0->langchain_chroma) (0.9)\n",
            "Requirement already satisfied: coloredlogs in /usr/local/lib/python3.11/dist-packages (from onnxruntime>=1.14.1->chromadb!=0.5.10,!=0.5.11,!=0.5.12,!=0.5.4,!=0.5.5,!=0.5.7,!=0.5.9,<0.7.0,>=0.4.0->langchain_chroma) (15.0.1)\n",
            "Requirement already satisfied: flatbuffers in /usr/local/lib/python3.11/dist-packages (from onnxruntime>=1.14.1->chromadb!=0.5.10,!=0.5.11,!=0.5.12,!=0.5.4,!=0.5.5,!=0.5.7,!=0.5.9,<0.7.0,>=0.4.0->langchain_chroma) (25.2.10)\n",
            "Requirement already satisfied: protobuf in /usr/local/lib/python3.11/dist-packages (from onnxruntime>=1.14.1->chromadb!=0.5.10,!=0.5.11,!=0.5.12,!=0.5.4,!=0.5.5,!=0.5.7,!=0.5.9,<0.7.0,>=0.4.0->langchain_chroma) (5.29.4)\n",
            "Requirement already satisfied: sympy in /usr/local/lib/python3.11/dist-packages (from onnxruntime>=1.14.1->chromadb!=0.5.10,!=0.5.11,!=0.5.12,!=0.5.4,!=0.5.5,!=0.5.7,!=0.5.9,<0.7.0,>=0.4.0->langchain_chroma) (1.13.1)\n",
            "Requirement already satisfied: deprecated>=1.2.6 in /usr/local/lib/python3.11/dist-packages (from opentelemetry-api>=1.2.0->chromadb!=0.5.10,!=0.5.11,!=0.5.12,!=0.5.4,!=0.5.5,!=0.5.7,!=0.5.9,<0.7.0,>=0.4.0->langchain_chroma) (1.2.18)\n",
            "Requirement already satisfied: importlib-metadata<8.7.0,>=6.0 in /usr/local/lib/python3.11/dist-packages (from opentelemetry-api>=1.2.0->chromadb!=0.5.10,!=0.5.11,!=0.5.12,!=0.5.4,!=0.5.5,!=0.5.7,!=0.5.9,<0.7.0,>=0.4.0->langchain_chroma) (8.6.1)\n",
            "Requirement already satisfied: googleapis-common-protos~=1.52 in /usr/local/lib/python3.11/dist-packages (from opentelemetry-exporter-otlp-proto-grpc>=1.2.0->chromadb!=0.5.10,!=0.5.11,!=0.5.12,!=0.5.4,!=0.5.5,!=0.5.7,!=0.5.9,<0.7.0,>=0.4.0->langchain_chroma) (1.70.0)\n",
            "Requirement already satisfied: opentelemetry-exporter-otlp-proto-common==1.33.0 in /usr/local/lib/python3.11/dist-packages (from opentelemetry-exporter-otlp-proto-grpc>=1.2.0->chromadb!=0.5.10,!=0.5.11,!=0.5.12,!=0.5.4,!=0.5.5,!=0.5.7,!=0.5.9,<0.7.0,>=0.4.0->langchain_chroma) (1.33.0)\n",
            "Requirement already satisfied: opentelemetry-proto==1.33.0 in /usr/local/lib/python3.11/dist-packages (from opentelemetry-exporter-otlp-proto-grpc>=1.2.0->chromadb!=0.5.10,!=0.5.11,!=0.5.12,!=0.5.4,!=0.5.5,!=0.5.7,!=0.5.9,<0.7.0,>=0.4.0->langchain_chroma) (1.33.0)\n",
            "Requirement already satisfied: opentelemetry-instrumentation-asgi==0.54b0 in /usr/local/lib/python3.11/dist-packages (from opentelemetry-instrumentation-fastapi>=0.41b0->chromadb!=0.5.10,!=0.5.11,!=0.5.12,!=0.5.4,!=0.5.5,!=0.5.7,!=0.5.9,<0.7.0,>=0.4.0->langchain_chroma) (0.54b0)\n",
            "Requirement already satisfied: opentelemetry-instrumentation==0.54b0 in /usr/local/lib/python3.11/dist-packages (from opentelemetry-instrumentation-fastapi>=0.41b0->chromadb!=0.5.10,!=0.5.11,!=0.5.12,!=0.5.4,!=0.5.5,!=0.5.7,!=0.5.9,<0.7.0,>=0.4.0->langchain_chroma) (0.54b0)\n",
            "Requirement already satisfied: opentelemetry-semantic-conventions==0.54b0 in /usr/local/lib/python3.11/dist-packages (from opentelemetry-instrumentation-fastapi>=0.41b0->chromadb!=0.5.10,!=0.5.11,!=0.5.12,!=0.5.4,!=0.5.5,!=0.5.7,!=0.5.9,<0.7.0,>=0.4.0->langchain_chroma) (0.54b0)\n",
            "Requirement already satisfied: opentelemetry-util-http==0.54b0 in /usr/local/lib/python3.11/dist-packages (from opentelemetry-instrumentation-fastapi>=0.41b0->chromadb!=0.5.10,!=0.5.11,!=0.5.12,!=0.5.4,!=0.5.5,!=0.5.7,!=0.5.9,<0.7.0,>=0.4.0->langchain_chroma) (0.54b0)\n",
            "Requirement already satisfied: wrapt<2.0.0,>=1.0.0 in /usr/local/lib/python3.11/dist-packages (from opentelemetry-instrumentation==0.54b0->opentelemetry-instrumentation-fastapi>=0.41b0->chromadb!=0.5.10,!=0.5.11,!=0.5.12,!=0.5.4,!=0.5.5,!=0.5.7,!=0.5.9,<0.7.0,>=0.4.0->langchain_chroma) (1.17.2)\n",
            "Requirement already satisfied: asgiref~=3.0 in /usr/local/lib/python3.11/dist-packages (from opentelemetry-instrumentation-asgi==0.54b0->opentelemetry-instrumentation-fastapi>=0.41b0->chromadb!=0.5.10,!=0.5.11,!=0.5.12,!=0.5.4,!=0.5.5,!=0.5.7,!=0.5.9,<0.7.0,>=0.4.0->langchain_chroma) (3.8.1)\n",
            "Requirement already satisfied: backoff>=1.10.0 in /usr/local/lib/python3.11/dist-packages (from posthog>=2.4.0->chromadb!=0.5.10,!=0.5.11,!=0.5.12,!=0.5.4,!=0.5.5,!=0.5.7,!=0.5.9,<0.7.0,>=0.4.0->langchain_chroma) (2.2.1)\n",
            "Requirement already satisfied: markdown-it-py>=2.2.0 in /usr/local/lib/python3.11/dist-packages (from rich>=10.11.0->chromadb!=0.5.10,!=0.5.11,!=0.5.12,!=0.5.4,!=0.5.5,!=0.5.7,!=0.5.9,<0.7.0,>=0.4.0->langchain_chroma) (3.0.0)\n",
            "Requirement already satisfied: pygments<3.0.0,>=2.13.0 in /usr/local/lib/python3.11/dist-packages (from rich>=10.11.0->chromadb!=0.5.10,!=0.5.11,!=0.5.12,!=0.5.4,!=0.5.5,!=0.5.7,!=0.5.9,<0.7.0,>=0.4.0->langchain_chroma) (2.19.1)\n",
            "Requirement already satisfied: huggingface-hub<1.0,>=0.16.4 in /usr/local/lib/python3.11/dist-packages (from tokenizers>=0.13.2->chromadb!=0.5.10,!=0.5.11,!=0.5.12,!=0.5.4,!=0.5.5,!=0.5.7,!=0.5.9,<0.7.0,>=0.4.0->langchain_chroma) (0.31.1)\n",
            "Requirement already satisfied: click>=8.0.0 in /usr/local/lib/python3.11/dist-packages (from typer>=0.9.0->chromadb!=0.5.10,!=0.5.11,!=0.5.12,!=0.5.4,!=0.5.5,!=0.5.7,!=0.5.9,<0.7.0,>=0.4.0->langchain_chroma) (8.1.8)\n",
            "Requirement already satisfied: shellingham>=1.3.0 in /usr/local/lib/python3.11/dist-packages (from typer>=0.9.0->chromadb!=0.5.10,!=0.5.11,!=0.5.12,!=0.5.4,!=0.5.5,!=0.5.7,!=0.5.9,<0.7.0,>=0.4.0->langchain_chroma) (1.5.4)\n",
            "Requirement already satisfied: mypy-extensions>=0.3.0 in /usr/local/lib/python3.11/dist-packages (from typing-inspect<1,>=0.4.0->dataclasses-json<0.7,>=0.5.7->langchain_community) (1.1.0)\n",
            "Requirement already satisfied: httptools>=0.6.3 in /usr/local/lib/python3.11/dist-packages (from uvicorn[standard]>=0.18.3->chromadb!=0.5.10,!=0.5.11,!=0.5.12,!=0.5.4,!=0.5.5,!=0.5.7,!=0.5.9,<0.7.0,>=0.4.0->langchain_chroma) (0.6.4)\n",
            "Requirement already satisfied: uvloop!=0.15.0,!=0.15.1,>=0.14.0 in /usr/local/lib/python3.11/dist-packages (from uvicorn[standard]>=0.18.3->chromadb!=0.5.10,!=0.5.11,!=0.5.12,!=0.5.4,!=0.5.5,!=0.5.7,!=0.5.9,<0.7.0,>=0.4.0->langchain_chroma) (0.21.0)\n",
            "Requirement already satisfied: watchfiles>=0.13 in /usr/local/lib/python3.11/dist-packages (from uvicorn[standard]>=0.18.3->chromadb!=0.5.10,!=0.5.11,!=0.5.12,!=0.5.4,!=0.5.5,!=0.5.7,!=0.5.9,<0.7.0,>=0.4.0->langchain_chroma) (1.0.5)\n",
            "Requirement already satisfied: websockets>=10.4 in /usr/local/lib/python3.11/dist-packages (from uvicorn[standard]>=0.18.3->chromadb!=0.5.10,!=0.5.11,!=0.5.12,!=0.5.4,!=0.5.5,!=0.5.7,!=0.5.9,<0.7.0,>=0.4.0->langchain_chroma) (15.0.1)\n",
            "Requirement already satisfied: cachetools<6.0,>=2.0.0 in /usr/local/lib/python3.11/dist-packages (from google-auth>=1.0.1->kubernetes>=28.1.0->chromadb!=0.5.10,!=0.5.11,!=0.5.12,!=0.5.4,!=0.5.5,!=0.5.7,!=0.5.9,<0.7.0,>=0.4.0->langchain_chroma) (5.5.2)\n",
            "Requirement already satisfied: pyasn1-modules>=0.2.1 in /usr/local/lib/python3.11/dist-packages (from google-auth>=1.0.1->kubernetes>=28.1.0->chromadb!=0.5.10,!=0.5.11,!=0.5.12,!=0.5.4,!=0.5.5,!=0.5.7,!=0.5.9,<0.7.0,>=0.4.0->langchain_chroma) (0.4.2)\n",
            "Requirement already satisfied: rsa<5,>=3.1.4 in /usr/local/lib/python3.11/dist-packages (from google-auth>=1.0.1->kubernetes>=28.1.0->chromadb!=0.5.10,!=0.5.11,!=0.5.12,!=0.5.4,!=0.5.5,!=0.5.7,!=0.5.9,<0.7.0,>=0.4.0->langchain_chroma) (4.9.1)\n",
            "Requirement already satisfied: filelock in /usr/local/lib/python3.11/dist-packages (from huggingface-hub<1.0,>=0.16.4->tokenizers>=0.13.2->chromadb!=0.5.10,!=0.5.11,!=0.5.12,!=0.5.4,!=0.5.5,!=0.5.7,!=0.5.9,<0.7.0,>=0.4.0->langchain_chroma) (3.18.0)\n",
            "Requirement already satisfied: fsspec>=2023.5.0 in /usr/local/lib/python3.11/dist-packages (from huggingface-hub<1.0,>=0.16.4->tokenizers>=0.13.2->chromadb!=0.5.10,!=0.5.11,!=0.5.12,!=0.5.4,!=0.5.5,!=0.5.7,!=0.5.9,<0.7.0,>=0.4.0->langchain_chroma) (2025.3.2)\n",
            "Requirement already satisfied: hf-xet<2.0.0,>=1.1.0 in /usr/local/lib/python3.11/dist-packages (from huggingface-hub<1.0,>=0.16.4->tokenizers>=0.13.2->chromadb!=0.5.10,!=0.5.11,!=0.5.12,!=0.5.4,!=0.5.5,!=0.5.7,!=0.5.9,<0.7.0,>=0.4.0->langchain_chroma) (1.1.0)\n",
            "Requirement already satisfied: zipp>=3.20 in /usr/local/lib/python3.11/dist-packages (from importlib-metadata<8.7.0,>=6.0->opentelemetry-api>=1.2.0->chromadb!=0.5.10,!=0.5.11,!=0.5.12,!=0.5.4,!=0.5.5,!=0.5.7,!=0.5.9,<0.7.0,>=0.4.0->langchain_chroma) (3.21.0)\n",
            "Requirement already satisfied: mdurl~=0.1 in /usr/local/lib/python3.11/dist-packages (from markdown-it-py>=2.2.0->rich>=10.11.0->chromadb!=0.5.10,!=0.5.11,!=0.5.12,!=0.5.4,!=0.5.5,!=0.5.7,!=0.5.9,<0.7.0,>=0.4.0->langchain_chroma) (0.1.2)\n",
            "Requirement already satisfied: humanfriendly>=9.1 in /usr/local/lib/python3.11/dist-packages (from coloredlogs->onnxruntime>=1.14.1->chromadb!=0.5.10,!=0.5.11,!=0.5.12,!=0.5.4,!=0.5.5,!=0.5.7,!=0.5.9,<0.7.0,>=0.4.0->langchain_chroma) (10.0)\n",
            "Requirement already satisfied: mpmath<1.4,>=1.1.0 in /usr/local/lib/python3.11/dist-packages (from sympy->onnxruntime>=1.14.1->chromadb!=0.5.10,!=0.5.11,!=0.5.12,!=0.5.4,!=0.5.5,!=0.5.7,!=0.5.9,<0.7.0,>=0.4.0->langchain_chroma) (1.3.0)\n",
            "Requirement already satisfied: pyasn1<0.7.0,>=0.6.1 in /usr/local/lib/python3.11/dist-packages (from pyasn1-modules>=0.2.1->google-auth>=1.0.1->kubernetes>=28.1.0->chromadb!=0.5.10,!=0.5.11,!=0.5.12,!=0.5.4,!=0.5.5,!=0.5.7,!=0.5.9,<0.7.0,>=0.4.0->langchain_chroma) (0.6.1)\n"
          ]
        }
      ]
    },
    {
      "cell_type": "code",
      "execution_count": 97,
      "metadata": {
        "id": "g-rTpgeqzsNV"
      },
      "outputs": [],
      "source": [
        "from langchain_community.document_loaders import PyPDFLoader\n",
        "from langchain_text_splitters.character import RecursiveCharacterTextSplitter\n",
        "from langchain_chroma import Chroma\n",
        "from langchain_openai import OpenAIEmbeddings\n",
        "from langchain.retrievers.multi_query import MultiQueryRetriever\n",
        "from langchain_openai import ChatOpenAI\n",
        "from langchain_core.prompts.prompt import PromptTemplate\n",
        "from langchain_core.output_parsers import StrOutputParser\n",
        "from langchain_core.runnables import RunnablePassthrough\n"
      ]
    },
    {
      "cell_type": "code",
      "execution_count": 98,
      "metadata": {
        "id": "JmV7e8v9zsNY"
      },
      "outputs": [],
      "source": [
        "loader = PyPDFLoader(\"/content/Sumit_Bandyopadhyay_Resume_v1.0.pdf\")\n",
        "pages = []\n",
        "async for page in loader.alazy_load():\n",
        "    pages.append(page)"
      ]
    },
    {
      "cell_type": "code",
      "execution_count": 99,
      "metadata": {
        "colab": {
          "base_uri": "https://localhost:8080/"
        },
        "id": "M0p4nAvYzsNZ",
        "outputId": "315719c3-02ff-456e-922f-ec8e427e158c"
      },
      "outputs": [
        {
          "output_type": "execute_result",
          "data": {
            "text/plain": [
              "[Document(metadata={'producer': 'Canva', 'creator': 'Canva', 'creationdate': '2025-05-13T08:55:39+00:00', 'title': 'Copy of Black White Minimalist CV Resume', 'moddate': '2025-05-13T08:55:35+00:00', 'keywords': 'DAGnUM-cO5w,BACr4bwS9e8,0', 'author': 'sumit', 'source': '/content/Sumit_Bandyopadhyay_Resume_v1.0.pdf', 'total_pages': 2, 'page': 0, 'page_label': '1'}, page_content='Languages\\nC, C++, Python,Rust\\nProtocols\\nCAN, LIN, J1939, I2C,\\nSPI,RS232, TCP/IP suite\\nMicro-controller\\nKnowledge of 8/16/32 bit\\nmicrocontrollers\\nOperating System\\nOSEK, eCos, uCos, Linux\\nDevelopment Tools\\nGNUmake tools, Eclipse IDE, Keil\\nuVision, MPLab   Microchip,\\nCodewarrior, CrossCore\\nEmbedded Studio, Visua Dsp++,\\nCCS\\nConfiguration Tools\\nSVN, CM Synergy, Change\\nSynergy, Git\\nRequirements Tools  \\nTelelogic Doors 8.2t\\nProject Management Tool \\nAgile Jira, MS Project , PMSmart\\nTool\\nAutomotive Domain Tools\\nAutosar Tools Arctic Core,Vector\\nCanalyzer, CANoe, DaVinci\\nToolchain \\nTechnical Skills\\n+91-8108778868\\nsumitband@outlook.com\\nChennai, TN\\nSumit Bandyopadhyay\\nSenior SW Department Manager\\nExperienced professional with a successful career spanning over 21+ years in software development and team\\nmanagement\\nProven success in leading software development projects\\nSuccessfully established and grew the Valeo Powertrain software department at the India technical center,\\nbuilding a team of 150+ software engineers\\nStrong interpersonal, communication, leadership, and analytical skills, with a track record of effective stakeholder\\nmanagement.\\nEducation\\nPMI – PMP certification (License – 1913567)\\nCertification in Scrum Master (CSM), Scrum Alliance \\nUdacity - Introduction to self Driving Car\\nSimplilearn Tensor Flow and Keras\\nCoursera - Machine Learning\\nMicrosoft Project Training, HCL Technologies\\nBuilt and scaled a software department to 150+ engineers, working on 48V hybrid electric systems for different\\nproducts like Integrated belt-driven starter generators, DC-DC converters, inverters, on-board chargers & high\\nvoltage inverters.\\nFocused on driving the strategic growth of Powertrain SW department, including improving project execution,\\nenhancing team maturity, and quality objectives.\\nAligned roadmaps with stakeholders in France, Germany, China, and Egypt to secure full autonomy across the\\nsoftware lifecycle.\\nResponsible for day-to-day department operations & supporting the team\\nMonitored project health KPIs—cut schedule slippage by 35% and cost overruns by 20%—and reported insights in\\nmonthly Steering Committee reviews.\\nMaintained 98% resource utilization by balancing billable vs. non-billable hours within a $2M annual budget.\\nMonitored project health KPIs—cut schedule slippage by 35% and cost overruns by 20%—and reported insights in\\nmonthly Steering Committee reviews.\\nAchieved 100% staffing within six weeks for planned headcount, driving recruitment and resource allocation.\\nDefined department roadmaps based on a 4.6/5 CSAT score, lifting customer satisfaction by 10% year-over-year.\\nMonitoring the ASPICE L2 process project milestones & continuous improvement dashboards\\nStreamlined tool inventories for 40% more reuse and 12% cost savings.\\nMentored 20+ domain experts, growing bench strength by 35%.\\nManaged appraisals, compensation, and attrition, reducing turnover to 8%.\\nSenior SW Department Manager – Powertrain Electrified Mobility\\nJun 2017 - Current\\n2022Post Graduate Program in Artificial Intelligence & Machine Learning from University of Texas\\nValeo India Pvt Ltd  , Chennai\\n2014Executive Masters in Business Administration (ITM University, Mumbai)\\n2002BE Electronics , Terna Engineering College, Mumbai University\\n1998Higher Secondary Board from Atomic Energy Junior College, Mumbai, CBSE\\n1996Secondary School Board from Atomic Energy Central School, CBSE\\nCertifications\\nExperience\\nKey Competencies\\nDomain Skills Experience on  execution of Full life cycle projects with Aspice L2 compliance\\nWorked on Valeo mild hybrid products like  iBSG, Inverters, DC-DC converters, and GMG\\nExperience on Off-Highway Vehicle software development\\nWorked on Body Electronics domain and ADAS product\\nExperience on AUTOSAR Software development projects, architecture and implementation\\nProject scoping, Schedule Management, Communication , Risk management, Cost Management\\nusing tools like Microsoft Project , JIRA , Polarian\\nKnowledge and exposure on \\nMachine Learning  (Predictive Modelling, Supervised & Unsupervised Learning, Ensemble\\nTechniques,Time Series Forecasting,Data Mining, Pandas, Numpy Seaborn,Matplotlib) and \\nBuilt autonomous agent frameworks using LangChain, AutoGPT, and custom tool-use agents;\\ndeveloped multi-step reasoning workflows and API-based action loops.\\nDeep Learning skills  (TensorFlow, Keras, Predictive Modelling, Supervised & Unsupervised Learning,\\nEnsemble Techniques, Recommendation Systems)\\nWorked on projects related to computer vision, OpenCV, Object Tracking , CNN ( Convolutional\\nNeural Network), Yolo-v8\\nAIML Projects : https://eportfolio.mygreatlearning.com/sumit-bandyopadhyay\\nAI Skills\\nArtifcial Intelligence & Machine\\nLearning\\nAnaconda, VSStudio, Jupyter Lab,\\nPycharm, Google Colab\\nPersonal Details\\nhttps://www.linkedin.com/in\\n/sumit-bandyopadhyay-\\n2576058/\\n Web Design & Development,\\nJavascript, PHP, HTML, CSS,\\nReact, Nextjs\\n2024Masters in Data Science  (Deakin University - Australia)'),\n",
              " Document(metadata={'producer': 'Canva', 'creator': 'Canva', 'creationdate': '2025-05-13T08:55:39+00:00', 'title': 'Copy of Black White Minimalist CV Resume', 'moddate': '2025-05-13T08:55:35+00:00', 'keywords': 'DAGnUM-cO5w,BACr4bwS9e8,0', 'author': 'sumit', 'source': '/content/Sumit_Bandyopadhyay_Resume_v1.0.pdf', 'total_pages': 2, 'page': 1, 'page_label': '2'}, page_content='Contact\\nEducation\\n123-456-7890\\nPhone\\nhello@reallygreatsite.com\\nEmail\\n123 Anywhere St., Any City\\nAddress\\nExperience\\nProject title - Off highway Vehicle Domain ECU Development\\nLed ECU development for off-highway vehicles with a 30+ member global team.\\nDelivered 12+ project milestones on time over 2 years, meeting ISO 26262 and ASPICE standards.\\nImproved defect closure rate by 40% through tighter Dev-Test coordination.\\nManaged monthly customer billing and work progress, and provided revenue forecasts.\\nResponded to 15+ customer RFPs, winning 3 new projects worth $500K+.\\nReduced project risk by 30% via monthly reviews and proactive issue tracking.\\nReviewed customer proposals, determined solution fit, and provided gap analysis.\\nBoosted team productivity by 20% through cross-functional alignment.\\nProject Title – IO master ECU function development\\nLed AUTOSAR software and IO Master ECU integration with 100% success rate. \\nImplemented J1939 stack and diagnostics, cutting fault resolution time by 35%.\\nMentored 20 engineers; improved skill levels by 25% through training and coaching.\\nTechnical Project Manager – Automotive/Off Highway Vehicle Domain\\nJun 2014 - May 2017\\nHCL Tech Ltd  l Pune\\nProcess Flows\\nPhoneDesigned and implemented multiple Car-Access and distribution-box software modules (CAN, LIN) within an AUTOSAR architecture, delivering 8+modules with a 30% reduction in integration defects.Experienced in all phases of V-model development including design, implementation, and diagnostic services. Owned full V-model lifecycle—from requirements analysis through design, implementation, diagnostics, and code review—for safety-critical systems,achieving 95% test coverage and zero critical post-release bugs.Served as AUTOSAR Architect for Application, BSW, MCAL, and OS layers. Developed an AUTOSAR pragma tool and a Python-based WebPy service,cutting configuration and build times by 40%.Engineered AUTOSAR-compliant EEPROM, Flash, NVRAM, and Emulated EEPROM drivers, plus UDS diagnostic services. Reduced memory-related fieldfaults by 25% through robust driver design.Led design of the DTC Manager and FET short-circuit protection logic for a solid-state junction box, lowering field failure rates by 25%Created end-to-end test cases in MxVDev, improving regression test efficiency by 50% and driving continuous process improvements under ASPICELevel 2.\\nSenior Software Engineer – Body Electronics Domian\\nDec 2007- Jun 2014\\nLear India Engineering Center   l Pune\\nEmbedded Linux GUI: Built FLTK/Nano-X interfaces, ported U-Boot and procfs drivers, and added TCP/IP updates—cut UI load and boot times by ~30%.\\nBACnet Gateway: Developed eCos-based VFD gateway with RedBoot, BSD sockets, and SNMP—boosted throughput by 40% and uptime to 99.5%.\\nBiomedical DAQ: Created Ethernet/bootloader drivers, TCP/IP stack, and SNMP agents—halved firmware-upgrade failures and sped fault detection by\\n60%.\\nARM Board Firmware: Prototyped LPC2294 board with μC/OS-II and uIP stack—accelerated validation by 35% and demo delivery by 40%.\\nSoftware Tech Lead\\nJul 2005 - Dec 2007\\nEmbin Technologies Pvt Ltd  l Mumbai\\nProject Title - Ethernet to Serial protocol converter and CAN Gateway module\\nEmbedded TCP/IP Stack Development: Ported and optimized the lightweight uIP TCP/IP stack on an LPC2294 with ENC28J60, reducing RAM usage and\\nmemory footprint.\\nDriver Implementation: Wrote low-level ENC28J60 Ethernet drivers, boosting packet throughput by 40% and halving driver-related error rates.\\nCAN-to-Ethernet Gateway: Engineered real-time routing of incoming CAN messages over Ethernet, achieving end-to-end latency under 5 ms \\nSystem Reliability & Testing: Integrated robust error-handling and diagnostic hooks, cutting field-reported faults \\nEmbedded Trainee Engineer\\nJul 2004- Mar 2005\\nMicromax Informatics Pvt Ltd l Mumbai\\nProject Title - Software Web Services\\nDeveloped Windows DLLs in Visual C++ for various tasks.\\nMaintained PHP front-end and back-end applications using JavaScript and DHTML.\\nSoftware Engineer\\nApr 2003- May 2004\\nUnique Diagnostic Solutions  l Mumbai')]"
            ]
          },
          "metadata": {},
          "execution_count": 99
        }
      ],
      "source": [
        "pages"
      ]
    },
    {
      "cell_type": "code",
      "execution_count": 137,
      "metadata": {
        "id": "TbFq8kp9zsNc"
      },
      "outputs": [],
      "source": [
        "text_splitter = RecursiveCharacterTextSplitter(\n",
        "    chunk_size=500,\n",
        "    chunk_overlap=10,\n",
        "    separators = [\"\\n\\n\",\"\\n\",\".\"]\n",
        ")\n",
        "\n",
        "docs = text_splitter.split_documents(pages)"
      ]
    },
    {
      "cell_type": "code",
      "execution_count": 138,
      "metadata": {
        "colab": {
          "base_uri": "https://localhost:8080/"
        },
        "id": "JzlOXrx_zsNd",
        "outputId": "9fd5985c-f678-4fad-fb57-b8ab91ebc95a"
      },
      "outputs": [
        {
          "output_type": "execute_result",
          "data": {
            "text/plain": [
              "[Document(metadata={'producer': 'Canva', 'creator': 'Canva', 'creationdate': '2025-05-13T08:55:39+00:00', 'title': 'Copy of Black White Minimalist CV Resume', 'moddate': '2025-05-13T08:55:35+00:00', 'keywords': 'DAGnUM-cO5w,BACr4bwS9e8,0', 'author': 'sumit', 'source': '/content/Sumit_Bandyopadhyay_Resume_v1.0.pdf', 'total_pages': 2, 'page': 0, 'page_label': '1'}, page_content='Languages\\nC, C++, Python,Rust\\nProtocols\\nCAN, LIN, J1939, I2C,\\nSPI,RS232, TCP/IP suite\\nMicro-controller\\nKnowledge of 8/16/32 bit\\nmicrocontrollers\\nOperating System\\nOSEK, eCos, uCos, Linux\\nDevelopment Tools\\nGNUmake tools, Eclipse IDE, Keil\\nuVision, MPLab   Microchip,\\nCodewarrior, CrossCore\\nEmbedded Studio, Visua Dsp++,\\nCCS\\nConfiguration Tools\\nSVN, CM Synergy, Change\\nSynergy, Git\\nRequirements Tools  \\nTelelogic Doors 8.2t\\nProject Management Tool \\nAgile Jira, MS Project , PMSmart\\nTool'),\n",
              " Document(metadata={'producer': 'Canva', 'creator': 'Canva', 'creationdate': '2025-05-13T08:55:39+00:00', 'title': 'Copy of Black White Minimalist CV Resume', 'moddate': '2025-05-13T08:55:35+00:00', 'keywords': 'DAGnUM-cO5w,BACr4bwS9e8,0', 'author': 'sumit', 'source': '/content/Sumit_Bandyopadhyay_Resume_v1.0.pdf', 'total_pages': 2, 'page': 0, 'page_label': '1'}, page_content='Tool\\nAutomotive Domain Tools\\nAutosar Tools Arctic Core,Vector\\nCanalyzer, CANoe, DaVinci\\nToolchain \\nTechnical Skills\\n+91-8108778868\\nsumitband@outlook.com\\nChennai, TN\\nSumit Bandyopadhyay\\nSenior SW Department Manager\\nExperienced professional with a successful career spanning over 21+ years in software development and team\\nmanagement\\nProven success in leading software development projects\\nSuccessfully established and grew the Valeo Powertrain software department at the India technical center,'),\n",
              " Document(metadata={'producer': 'Canva', 'creator': 'Canva', 'creationdate': '2025-05-13T08:55:39+00:00', 'title': 'Copy of Black White Minimalist CV Resume', 'moddate': '2025-05-13T08:55:35+00:00', 'keywords': 'DAGnUM-cO5w,BACr4bwS9e8,0', 'author': 'sumit', 'source': '/content/Sumit_Bandyopadhyay_Resume_v1.0.pdf', 'total_pages': 2, 'page': 0, 'page_label': '1'}, page_content='building a team of 150+ software engineers\\nStrong interpersonal, communication, leadership, and analytical skills, with a track record of effective stakeholder\\nmanagement.\\nEducation\\nPMI – PMP certification (License – 1913567)\\nCertification in Scrum Master (CSM), Scrum Alliance \\nUdacity - Introduction to self Driving Car\\nSimplilearn Tensor Flow and Keras\\nCoursera - Machine Learning\\nMicrosoft Project Training, HCL Technologies'),\n",
              " Document(metadata={'producer': 'Canva', 'creator': 'Canva', 'creationdate': '2025-05-13T08:55:39+00:00', 'title': 'Copy of Black White Minimalist CV Resume', 'moddate': '2025-05-13T08:55:35+00:00', 'keywords': 'DAGnUM-cO5w,BACr4bwS9e8,0', 'author': 'sumit', 'source': '/content/Sumit_Bandyopadhyay_Resume_v1.0.pdf', 'total_pages': 2, 'page': 0, 'page_label': '1'}, page_content='Built and scaled a software department to 150+ engineers, working on 48V hybrid electric systems for different\\nproducts like Integrated belt-driven starter generators, DC-DC converters, inverters, on-board chargers & high\\nvoltage inverters.\\nFocused on driving the strategic growth of Powertrain SW department, including improving project execution,\\nenhancing team maturity, and quality objectives.'),\n",
              " Document(metadata={'producer': 'Canva', 'creator': 'Canva', 'creationdate': '2025-05-13T08:55:39+00:00', 'title': 'Copy of Black White Minimalist CV Resume', 'moddate': '2025-05-13T08:55:35+00:00', 'keywords': 'DAGnUM-cO5w,BACr4bwS9e8,0', 'author': 'sumit', 'source': '/content/Sumit_Bandyopadhyay_Resume_v1.0.pdf', 'total_pages': 2, 'page': 0, 'page_label': '1'}, page_content='Aligned roadmaps with stakeholders in France, Germany, China, and Egypt to secure full autonomy across the\\nsoftware lifecycle.\\nResponsible for day-to-day department operations & supporting the team\\nMonitored project health KPIs—cut schedule slippage by 35% and cost overruns by 20%—and reported insights in\\nmonthly Steering Committee reviews.\\nMaintained 98% resource utilization by balancing billable vs. non-billable hours within a $2M annual budget.'),\n",
              " Document(metadata={'producer': 'Canva', 'creator': 'Canva', 'creationdate': '2025-05-13T08:55:39+00:00', 'title': 'Copy of Black White Minimalist CV Resume', 'moddate': '2025-05-13T08:55:35+00:00', 'keywords': 'DAGnUM-cO5w,BACr4bwS9e8,0', 'author': 'sumit', 'source': '/content/Sumit_Bandyopadhyay_Resume_v1.0.pdf', 'total_pages': 2, 'page': 0, 'page_label': '1'}, page_content='Monitored project health KPIs—cut schedule slippage by 35% and cost overruns by 20%—and reported insights in\\nmonthly Steering Committee reviews.\\nAchieved 100% staffing within six weeks for planned headcount, driving recruitment and resource allocation.\\nDefined department roadmaps based on a 4.6/5 CSAT score, lifting customer satisfaction by 10% year-over-year.\\nMonitoring the ASPICE L2 process project milestones & continuous improvement dashboards'),\n",
              " Document(metadata={'producer': 'Canva', 'creator': 'Canva', 'creationdate': '2025-05-13T08:55:39+00:00', 'title': 'Copy of Black White Minimalist CV Resume', 'moddate': '2025-05-13T08:55:35+00:00', 'keywords': 'DAGnUM-cO5w,BACr4bwS9e8,0', 'author': 'sumit', 'source': '/content/Sumit_Bandyopadhyay_Resume_v1.0.pdf', 'total_pages': 2, 'page': 0, 'page_label': '1'}, page_content='Streamlined tool inventories for 40% more reuse and 12% cost savings.\\nMentored 20+ domain experts, growing bench strength by 35%.\\nManaged appraisals, compensation, and attrition, reducing turnover to 8%.\\nSenior SW Department Manager – Powertrain Electrified Mobility\\nJun 2017 - Current\\n2022Post Graduate Program in Artificial Intelligence & Machine Learning from University of Texas\\nValeo India Pvt Ltd  , Chennai\\n2014Executive Masters in Business Administration (ITM University, Mumbai)'),\n",
              " Document(metadata={'producer': 'Canva', 'creator': 'Canva', 'creationdate': '2025-05-13T08:55:39+00:00', 'title': 'Copy of Black White Minimalist CV Resume', 'moddate': '2025-05-13T08:55:35+00:00', 'keywords': 'DAGnUM-cO5w,BACr4bwS9e8,0', 'author': 'sumit', 'source': '/content/Sumit_Bandyopadhyay_Resume_v1.0.pdf', 'total_pages': 2, 'page': 0, 'page_label': '1'}, page_content='2002BE Electronics , Terna Engineering College, Mumbai University\\n1998Higher Secondary Board from Atomic Energy Junior College, Mumbai, CBSE\\n1996Secondary School Board from Atomic Energy Central School, CBSE\\nCertifications\\nExperience\\nKey Competencies\\nDomain Skills Experience on  execution of Full life cycle projects with Aspice L2 compliance\\nWorked on Valeo mild hybrid products like  iBSG, Inverters, DC-DC converters, and GMG\\nExperience on Off-Highway Vehicle software development'),\n",
              " Document(metadata={'producer': 'Canva', 'creator': 'Canva', 'creationdate': '2025-05-13T08:55:39+00:00', 'title': 'Copy of Black White Minimalist CV Resume', 'moddate': '2025-05-13T08:55:35+00:00', 'keywords': 'DAGnUM-cO5w,BACr4bwS9e8,0', 'author': 'sumit', 'source': '/content/Sumit_Bandyopadhyay_Resume_v1.0.pdf', 'total_pages': 2, 'page': 0, 'page_label': '1'}, page_content='Worked on Body Electronics domain and ADAS product\\nExperience on AUTOSAR Software development projects, architecture and implementation\\nProject scoping, Schedule Management, Communication , Risk management, Cost Management\\nusing tools like Microsoft Project , JIRA , Polarian\\nKnowledge and exposure on \\nMachine Learning  (Predictive Modelling, Supervised & Unsupervised Learning, Ensemble\\nTechniques,Time Series Forecasting,Data Mining, Pandas, Numpy Seaborn,Matplotlib) and'),\n",
              " Document(metadata={'producer': 'Canva', 'creator': 'Canva', 'creationdate': '2025-05-13T08:55:39+00:00', 'title': 'Copy of Black White Minimalist CV Resume', 'moddate': '2025-05-13T08:55:35+00:00', 'keywords': 'DAGnUM-cO5w,BACr4bwS9e8,0', 'author': 'sumit', 'source': '/content/Sumit_Bandyopadhyay_Resume_v1.0.pdf', 'total_pages': 2, 'page': 0, 'page_label': '1'}, page_content='Built autonomous agent frameworks using LangChain, AutoGPT, and custom tool-use agents;\\ndeveloped multi-step reasoning workflows and API-based action loops.\\nDeep Learning skills  (TensorFlow, Keras, Predictive Modelling, Supervised & Unsupervised Learning,\\nEnsemble Techniques, Recommendation Systems)\\nWorked on projects related to computer vision, OpenCV, Object Tracking , CNN ( Convolutional\\nNeural Network), Yolo-v8\\nAIML Projects : https://eportfolio.mygreatlearning.com/sumit-bandyopadhyay'),\n",
              " Document(metadata={'producer': 'Canva', 'creator': 'Canva', 'creationdate': '2025-05-13T08:55:39+00:00', 'title': 'Copy of Black White Minimalist CV Resume', 'moddate': '2025-05-13T08:55:35+00:00', 'keywords': 'DAGnUM-cO5w,BACr4bwS9e8,0', 'author': 'sumit', 'source': '/content/Sumit_Bandyopadhyay_Resume_v1.0.pdf', 'total_pages': 2, 'page': 0, 'page_label': '1'}, page_content='AI Skills\\nArtifcial Intelligence & Machine\\nLearning\\nAnaconda, VSStudio, Jupyter Lab,\\nPycharm, Google Colab\\nPersonal Details\\nhttps://www.linkedin.com/in\\n/sumit-bandyopadhyay-\\n2576058/\\n Web Design & Development,\\nJavascript, PHP, HTML, CSS,\\nReact, Nextjs\\n2024Masters in Data Science  (Deakin University - Australia)'),\n",
              " Document(metadata={'producer': 'Canva', 'creator': 'Canva', 'creationdate': '2025-05-13T08:55:39+00:00', 'title': 'Copy of Black White Minimalist CV Resume', 'moddate': '2025-05-13T08:55:35+00:00', 'keywords': 'DAGnUM-cO5w,BACr4bwS9e8,0', 'author': 'sumit', 'source': '/content/Sumit_Bandyopadhyay_Resume_v1.0.pdf', 'total_pages': 2, 'page': 1, 'page_label': '2'}, page_content='Contact\\nEducation\\n123-456-7890\\nPhone\\nhello@reallygreatsite.com\\nEmail\\n123 Anywhere St., Any City\\nAddress\\nExperience\\nProject title - Off highway Vehicle Domain ECU Development\\nLed ECU development for off-highway vehicles with a 30+ member global team.\\nDelivered 12+ project milestones on time over 2 years, meeting ISO 26262 and ASPICE standards.\\nImproved defect closure rate by 40% through tighter Dev-Test coordination.'),\n",
              " Document(metadata={'producer': 'Canva', 'creator': 'Canva', 'creationdate': '2025-05-13T08:55:39+00:00', 'title': 'Copy of Black White Minimalist CV Resume', 'moddate': '2025-05-13T08:55:35+00:00', 'keywords': 'DAGnUM-cO5w,BACr4bwS9e8,0', 'author': 'sumit', 'source': '/content/Sumit_Bandyopadhyay_Resume_v1.0.pdf', 'total_pages': 2, 'page': 1, 'page_label': '2'}, page_content='Managed monthly customer billing and work progress, and provided revenue forecasts.\\nResponded to 15+ customer RFPs, winning 3 new projects worth $500K+.\\nReduced project risk by 30% via monthly reviews and proactive issue tracking.\\nReviewed customer proposals, determined solution fit, and provided gap analysis.\\nBoosted team productivity by 20% through cross-functional alignment.\\nProject Title – IO master ECU function development'),\n",
              " Document(metadata={'producer': 'Canva', 'creator': 'Canva', 'creationdate': '2025-05-13T08:55:39+00:00', 'title': 'Copy of Black White Minimalist CV Resume', 'moddate': '2025-05-13T08:55:35+00:00', 'keywords': 'DAGnUM-cO5w,BACr4bwS9e8,0', 'author': 'sumit', 'source': '/content/Sumit_Bandyopadhyay_Resume_v1.0.pdf', 'total_pages': 2, 'page': 1, 'page_label': '2'}, page_content='Led AUTOSAR software and IO Master ECU integration with 100% success rate. \\nImplemented J1939 stack and diagnostics, cutting fault resolution time by 35%.\\nMentored 20 engineers; improved skill levels by 25% through training and coaching.\\nTechnical Project Manager – Automotive/Off Highway Vehicle Domain\\nJun 2014 - May 2017\\nHCL Tech Ltd  l Pune\\nProcess Flows'),\n",
              " Document(metadata={'producer': 'Canva', 'creator': 'Canva', 'creationdate': '2025-05-13T08:55:39+00:00', 'title': 'Copy of Black White Minimalist CV Resume', 'moddate': '2025-05-13T08:55:35+00:00', 'keywords': 'DAGnUM-cO5w,BACr4bwS9e8,0', 'author': 'sumit', 'source': '/content/Sumit_Bandyopadhyay_Resume_v1.0.pdf', 'total_pages': 2, 'page': 1, 'page_label': '2'}, page_content='PhoneDesigned and implemented multiple Car-Access and distribution-box software modules (CAN, LIN) within an AUTOSAR architecture, delivering 8+modules with a 30% reduction in integration defects.Experienced in all phases of V-model development including design, implementation, and diagnostic services'),\n",
              " Document(metadata={'producer': 'Canva', 'creator': 'Canva', 'creationdate': '2025-05-13T08:55:39+00:00', 'title': 'Copy of Black White Minimalist CV Resume', 'moddate': '2025-05-13T08:55:35+00:00', 'keywords': 'DAGnUM-cO5w,BACr4bwS9e8,0', 'author': 'sumit', 'source': '/content/Sumit_Bandyopadhyay_Resume_v1.0.pdf', 'total_pages': 2, 'page': 1, 'page_label': '2'}, page_content='. Owned full V-model lifecycle—from requirements analysis through design, implementation, diagnostics, and code review—for safety-critical systems,achieving 95% test coverage and zero critical post-release bugs.Served as AUTOSAR Architect for Application, BSW, MCAL, and OS layers. Developed an AUTOSAR pragma tool and a Python-based WebPy service,cutting configuration and build times by 40%'),\n",
              " Document(metadata={'producer': 'Canva', 'creator': 'Canva', 'creationdate': '2025-05-13T08:55:39+00:00', 'title': 'Copy of Black White Minimalist CV Resume', 'moddate': '2025-05-13T08:55:35+00:00', 'keywords': 'DAGnUM-cO5w,BACr4bwS9e8,0', 'author': 'sumit', 'source': '/content/Sumit_Bandyopadhyay_Resume_v1.0.pdf', 'total_pages': 2, 'page': 1, 'page_label': '2'}, page_content='.Engineered AUTOSAR-compliant EEPROM, Flash, NVRAM, and Emulated EEPROM drivers, plus UDS diagnostic services. Reduced memory-related fieldfaults by 25% through robust driver design.Led design of the DTC Manager and FET short-circuit protection logic for a solid-state junction box, lowering field failure rates by 25%Created end-to-end test cases in MxVDev, improving regression test efficiency by 50% and driving continuous process improvements under ASPICELevel 2.'),\n",
              " Document(metadata={'producer': 'Canva', 'creator': 'Canva', 'creationdate': '2025-05-13T08:55:39+00:00', 'title': 'Copy of Black White Minimalist CV Resume', 'moddate': '2025-05-13T08:55:35+00:00', 'keywords': 'DAGnUM-cO5w,BACr4bwS9e8,0', 'author': 'sumit', 'source': '/content/Sumit_Bandyopadhyay_Resume_v1.0.pdf', 'total_pages': 2, 'page': 1, 'page_label': '2'}, page_content='Senior Software Engineer – Body Electronics Domian\\nDec 2007- Jun 2014\\nLear India Engineering Center   l Pune\\nEmbedded Linux GUI: Built FLTK/Nano-X interfaces, ported U-Boot and procfs drivers, and added TCP/IP updates—cut UI load and boot times by ~30%.\\nBACnet Gateway: Developed eCos-based VFD gateway with RedBoot, BSD sockets, and SNMP—boosted throughput by 40% and uptime to 99.5%.'),\n",
              " Document(metadata={'producer': 'Canva', 'creator': 'Canva', 'creationdate': '2025-05-13T08:55:39+00:00', 'title': 'Copy of Black White Minimalist CV Resume', 'moddate': '2025-05-13T08:55:35+00:00', 'keywords': 'DAGnUM-cO5w,BACr4bwS9e8,0', 'author': 'sumit', 'source': '/content/Sumit_Bandyopadhyay_Resume_v1.0.pdf', 'total_pages': 2, 'page': 1, 'page_label': '2'}, page_content='Biomedical DAQ: Created Ethernet/bootloader drivers, TCP/IP stack, and SNMP agents—halved firmware-upgrade failures and sped fault detection by\\n60%.\\nARM Board Firmware: Prototyped LPC2294 board with μC/OS-II and uIP stack—accelerated validation by 35% and demo delivery by 40%.\\nSoftware Tech Lead\\nJul 2005 - Dec 2007\\nEmbin Technologies Pvt Ltd  l Mumbai\\nProject Title - Ethernet to Serial protocol converter and CAN Gateway module'),\n",
              " Document(metadata={'producer': 'Canva', 'creator': 'Canva', 'creationdate': '2025-05-13T08:55:39+00:00', 'title': 'Copy of Black White Minimalist CV Resume', 'moddate': '2025-05-13T08:55:35+00:00', 'keywords': 'DAGnUM-cO5w,BACr4bwS9e8,0', 'author': 'sumit', 'source': '/content/Sumit_Bandyopadhyay_Resume_v1.0.pdf', 'total_pages': 2, 'page': 1, 'page_label': '2'}, page_content='Embedded TCP/IP Stack Development: Ported and optimized the lightweight uIP TCP/IP stack on an LPC2294 with ENC28J60, reducing RAM usage and\\nmemory footprint.\\nDriver Implementation: Wrote low-level ENC28J60 Ethernet drivers, boosting packet throughput by 40% and halving driver-related error rates.\\nCAN-to-Ethernet Gateway: Engineered real-time routing of incoming CAN messages over Ethernet, achieving end-to-end latency under 5 ms'),\n",
              " Document(metadata={'producer': 'Canva', 'creator': 'Canva', 'creationdate': '2025-05-13T08:55:39+00:00', 'title': 'Copy of Black White Minimalist CV Resume', 'moddate': '2025-05-13T08:55:35+00:00', 'keywords': 'DAGnUM-cO5w,BACr4bwS9e8,0', 'author': 'sumit', 'source': '/content/Sumit_Bandyopadhyay_Resume_v1.0.pdf', 'total_pages': 2, 'page': 1, 'page_label': '2'}, page_content='System Reliability & Testing: Integrated robust error-handling and diagnostic hooks, cutting field-reported faults \\nEmbedded Trainee Engineer\\nJul 2004- Mar 2005\\nMicromax Informatics Pvt Ltd l Mumbai\\nProject Title - Software Web Services\\nDeveloped Windows DLLs in Visual C++ for various tasks.\\nMaintained PHP front-end and back-end applications using JavaScript and DHTML.\\nSoftware Engineer\\nApr 2003- May 2004\\nUnique Diagnostic Solutions  l Mumbai')]"
            ]
          },
          "metadata": {},
          "execution_count": 138
        }
      ],
      "source": [
        "docs"
      ]
    },
    {
      "cell_type": "code",
      "execution_count": 139,
      "metadata": {
        "id": "SgYCfeaHzsNg"
      },
      "outputs": [],
      "source": [
        "\n",
        "vectorstore = Chroma.from_documents(documents=docs, embedding=OpenAIEmbeddings())"
      ]
    },
    {
      "cell_type": "code",
      "execution_count": 140,
      "metadata": {
        "id": "E7jQRJb_zsNi"
      },
      "outputs": [],
      "source": [
        "# retriever = vectorstore.as_retriever(search_type=\"similarity\", search_kwargs={\"k\": 6})\n",
        "\n",
        "retriever = vectorstore.as_retriever(search_type=\"mmr\", search_kwargs={\"k\": 10})"
      ]
    },
    {
      "cell_type": "code",
      "execution_count": 141,
      "metadata": {
        "id": "c65Jv-wLzsNj"
      },
      "outputs": [],
      "source": [
        "\n",
        "llm = ChatOpenAI(temperature=0,model=\"gpt-4o-mini\")\n",
        "retriever_from_llm = MultiQueryRetriever.from_llm(\n",
        "    retriever=retriever, llm=llm\n",
        ")"
      ]
    },
    {
      "cell_type": "code",
      "execution_count": 160,
      "metadata": {
        "id": "zFiPgqw3zsNl"
      },
      "outputs": [],
      "source": [
        "query =\"List all companies he has worked in?\""
      ]
    },
    {
      "cell_type": "code",
      "execution_count": 161,
      "metadata": {
        "id": "CwxDLCBMzsNm"
      },
      "outputs": [],
      "source": [
        "\n",
        "retrieved_docs = retriever_from_llm.invoke(query)\n"
      ]
    },
    {
      "cell_type": "code",
      "execution_count": 162,
      "metadata": {
        "colab": {
          "base_uri": "https://localhost:8080/"
        },
        "id": "1jx6KfKWzsNm",
        "outputId": "2f7102e7-4fdc-40af-d723-7845d97c5af2"
      },
      "outputs": [
        {
          "output_type": "execute_result",
          "data": {
            "text/plain": [
              "[Document(id='0be699f5-bde0-40ce-b3c4-fe6674ac88d0', metadata={'author': 'sumit', 'creationdate': '2025-05-13T08:55:39+00:00', 'creator': 'Canva', 'keywords': 'DAGnUM-cO5w,BACr4bwS9e8,0', 'moddate': '2025-05-13T08:55:35+00:00', 'page': 0, 'page_label': '1', 'producer': 'Canva', 'source': '/content/Sumit_Bandyopadhyay_Resume_v1.0.pdf', 'title': 'Copy of Black White Minimalist CV Resume', 'total_pages': 2}, page_content='2002BE Electronics , Terna Engineering College, Mumbai University\\n1998Higher Secondary Board from Atomic Energy Junior College, Mumbai, CBSE\\n1996Secondary School Board from Atomic Energy Central School, CBSE\\nCertifications\\nExperience\\nKey Competencies\\nDomain Skills Experience on  execution of Full life cycle projects with Aspice L2 compliance\\nWorked on Valeo mild hybrid products like  iBSG, Inverters, DC-DC converters, and GMG\\nExperience on Off-Highway Vehicle software development'),\n",
              " Document(id='b9782420-82a9-4d8f-a8f5-3c71511a76f7', metadata={'author': 'sumit', 'creationdate': '2025-05-13T08:55:39+00:00', 'creator': 'Canva', 'keywords': 'DAGnUM-cO5w,BACr4bwS9e8,0', 'moddate': '2025-05-13T08:55:35+00:00', 'page': 0, 'page_label': '1', 'producer': 'Canva', 'source': '/content/Sumit_Bandyopadhyay_Resume_v1.0.pdf', 'title': 'Copy of Black White Minimalist CV Resume', 'total_pages': 2}, page_content='\\nExperienced professional with a successful career spanning over 21+ years in software development and team'),\n",
              " Document(id='6e93750a-2dad-46b8-a96b-255f26400a6b', metadata={'author': 'sumit', 'creationdate': '2025-05-13T08:55:39+00:00', 'creator': 'Canva', 'keywords': 'DAGnUM-cO5w,BACr4bwS9e8,0', 'moddate': '2025-05-13T08:55:35+00:00', 'page': 1, 'page_label': '2', 'producer': 'Canva', 'source': '/content/Sumit_Bandyopadhyay_Resume_v1.0.pdf', 'title': 'Copy of Black White Minimalist CV Resume', 'total_pages': 2}, page_content='Mentored 20 engineers; improved skill levels by 25% through training and coaching.'),\n",
              " Document(id='9104541e-e2f8-45d0-a8d3-9fe4e42f9f7e', metadata={'author': 'sumit', 'creationdate': '2025-05-13T08:55:39+00:00', 'creator': 'Canva', 'keywords': 'DAGnUM-cO5w,BACr4bwS9e8,0', 'moddate': '2025-05-13T08:55:35+00:00', 'page': 0, 'page_label': '1', 'producer': 'Canva', 'source': '/content/Sumit_Bandyopadhyay_Resume_v1.0.pdf', 'title': 'Copy of Black White Minimalist CV Resume', 'total_pages': 2}, page_content='building a team of 150+ software engineers\\nStrong interpersonal, communication, leadership, and analytical skills, with a track record of effective stakeholder\\nmanagement.\\nEducation\\nPMI – PMP certification (License – 1913567)\\nCertification in Scrum Master (CSM), Scrum Alliance \\nUdacity - Introduction to self Driving Car\\nSimplilearn Tensor Flow and Keras\\nCoursera - Machine Learning\\nMicrosoft Project Training, HCL Technologies'),\n",
              " Document(id='2dc9ce27-6eff-4ec7-96b8-ae6fa2521c9e', metadata={'author': 'sumit', 'creationdate': '2025-05-13T08:55:39+00:00', 'creator': 'Canva', 'keywords': 'DAGnUM-cO5w,BACr4bwS9e8,0', 'moddate': '2025-05-13T08:55:35+00:00', 'page': 0, 'page_label': '1', 'producer': 'Canva', 'source': '/content/Sumit_Bandyopadhyay_Resume_v1.0.pdf', 'title': 'Copy of Black White Minimalist CV Resume', 'total_pages': 2}, page_content='Valeo India Pvt Ltd  , Chennai'),\n",
              " Document(id='aeed96cc-d2a2-4d43-8280-744de3c6df18', metadata={'author': 'sumit', 'creationdate': '2025-05-13T08:55:39+00:00', 'creator': 'Canva', 'keywords': 'DAGnUM-cO5w,BACr4bwS9e8,0', 'moddate': '2025-05-13T08:55:35+00:00', 'page': 0, 'page_label': '1', 'producer': 'Canva', 'source': '/content/Sumit_Bandyopadhyay_Resume_v1.0.pdf', 'title': 'Copy of Black White Minimalist CV Resume', 'total_pages': 2}, page_content='Experienced professional with a successful career spanning over 21+ years in software development and team\\nmanagement\\nProven success in leading software development projects'),\n",
              " Document(id='b8873782-cb92-4456-8633-61b93afa7852', metadata={'author': 'sumit', 'creationdate': '2025-05-13T08:55:39+00:00', 'creator': 'Canva', 'keywords': 'DAGnUM-cO5w,BACr4bwS9e8,0', 'moddate': '2025-05-13T08:55:35+00:00', 'page': 1, 'page_label': '2', 'producer': 'Canva', 'source': '/content/Sumit_Bandyopadhyay_Resume_v1.0.pdf', 'title': 'Copy of Black White Minimalist CV Resume', 'total_pages': 2}, page_content='.'),\n",
              " Document(id='406d4832-0fa6-4055-a221-83889574a51e', metadata={'author': 'sumit', 'creationdate': '2025-05-13T08:55:39+00:00', 'creator': 'Canva', 'keywords': 'DAGnUM-cO5w,BACr4bwS9e8,0', 'moddate': '2025-05-13T08:55:35+00:00', 'page': 0, 'page_label': '1', 'producer': 'Canva', 'source': '/content/Sumit_Bandyopadhyay_Resume_v1.0.pdf', 'title': 'Copy of Black White Minimalist CV Resume', 'total_pages': 2}, page_content='1998Higher Secondary Board from Atomic Energy Junior College, Mumbai, CBSE\\n1996Secondary School Board from Atomic Energy Central School, CBSE\\nCertifications\\nExperience\\nKey Competencies'),\n",
              " Document(id='3248cbc7-0040-4256-be74-16cdc0ff628e', metadata={'author': 'sumit', 'creationdate': '2025-05-13T08:55:39+00:00', 'creator': 'Canva', 'keywords': 'DAGnUM-cO5w,BACr4bwS9e8,0', 'moddate': '2025-05-13T08:55:35+00:00', 'page': 0, 'page_label': '1', 'producer': 'Canva', 'source': '/content/Sumit_Bandyopadhyay_Resume_v1.0.pdf', 'title': 'Copy of Black White Minimalist CV Resume', 'total_pages': 2}, page_content='Worked on projects related to computer vision, OpenCV, Object Tracking , CNN ( Convolutional\\nNeural Network), Yolo-v8\\nAIML Projects : https://eportfolio.mygreatlearning.com/sumit-bandyopadhyay'),\n",
              " Document(id='b8879cdb-eeba-44e4-a72c-4db894b7beaf', metadata={'author': 'sumit', 'creationdate': '2025-05-13T08:55:39+00:00', 'creator': 'Canva', 'keywords': 'DAGnUM-cO5w,BACr4bwS9e8,0', 'moddate': '2025-05-13T08:55:35+00:00', 'page': 1, 'page_label': '2', 'producer': 'Canva', 'source': '/content/Sumit_Bandyopadhyay_Resume_v1.0.pdf', 'title': 'Copy of Black White Minimalist CV Resume', 'total_pages': 2}, page_content='Contact\\nEducation\\n123-456-7890\\nPhone\\nhello@reallygreatsite.com\\nEmail\\n123 Anywhere St., Any City\\nAddress\\nExperience\\nProject title - Off highway Vehicle Domain ECU Development\\nLed ECU development for off-highway vehicles with a 30+ member global team.'),\n",
              " Document(id='34bbeb97-4382-4331-97b3-9f6592ab1dba', metadata={'author': 'sumit', 'creationdate': '2025-05-13T08:55:39+00:00', 'creator': 'Canva', 'keywords': 'DAGnUM-cO5w,BACr4bwS9e8,0', 'moddate': '2025-05-13T08:55:35+00:00', 'page': 0, 'page_label': '1', 'producer': 'Canva', 'source': '/content/Sumit_Bandyopadhyay_Resume_v1.0.pdf', 'title': 'Copy of Black White Minimalist CV Resume', 'total_pages': 2}, page_content='2014Executive Masters in Business Administration (ITM University, Mumbai)\\n2002BE Electronics , Terna Engineering College, Mumbai University'),\n",
              " Document(id='cbf7f424-e2e3-451a-82fb-fe811f5ff1d0', metadata={'author': 'sumit', 'creationdate': '2025-05-13T08:55:39+00:00', 'creator': 'Canva', 'keywords': 'DAGnUM-cO5w,BACr4bwS9e8,0', 'moddate': '2025-05-13T08:55:35+00:00', 'page': 0, 'page_label': '1', 'producer': 'Canva', 'source': '/content/Sumit_Bandyopadhyay_Resume_v1.0.pdf', 'title': 'Copy of Black White Minimalist CV Resume', 'total_pages': 2}, page_content='Worked on Valeo mild hybrid products like  iBSG, Inverters, DC-DC converters, and GMG'),\n",
              " Document(id='8ccab566-64a7-4918-be6e-2e5d72fa04f8', metadata={'author': 'sumit', 'creationdate': '2025-05-13T08:55:39+00:00', 'creator': 'Canva', 'keywords': 'DAGnUM-cO5w,BACr4bwS9e8,0', 'moddate': '2025-05-13T08:55:35+00:00', 'page': 0, 'page_label': '1', 'producer': 'Canva', 'source': '/content/Sumit_Bandyopadhyay_Resume_v1.0.pdf', 'title': 'Copy of Black White Minimalist CV Resume', 'total_pages': 2}, page_content='1996Secondary School Board from Atomic Energy Central School, CBSE\\nCertifications\\nExperience'),\n",
              " Document(id='1d68cf5d-1425-45a9-ad54-5dff1780655b', metadata={'author': 'sumit', 'creationdate': '2025-05-13T08:55:39+00:00', 'creator': 'Canva', 'keywords': 'DAGnUM-cO5w,BACr4bwS9e8,0', 'moddate': '2025-05-13T08:55:35+00:00', 'page': 1, 'page_label': '2', 'producer': 'Canva', 'source': '/content/Sumit_Bandyopadhyay_Resume_v1.0.pdf', 'title': 'Copy of Black White Minimalist CV Resume', 'total_pages': 2}, page_content='Address\\nExperience\\nProject title - Off highway Vehicle Domain ECU Development')]"
            ]
          },
          "metadata": {},
          "execution_count": 162
        }
      ],
      "source": [
        "retrieved_docs"
      ]
    },
    {
      "cell_type": "code",
      "execution_count": 163,
      "metadata": {
        "id": "hRqglLklzsNn"
      },
      "outputs": [],
      "source": [
        "template = \"\"\"You are good at providing the content and then summarizing.\n",
        "So, please use the below context and summarize without missing any pointers\n",
        "context: {context}\n",
        "---------\n",
        "query: {query}\n",
        "\"\"\"\n",
        "prompt = PromptTemplate.from_template(template)"
      ]
    },
    {
      "cell_type": "code",
      "execution_count": 164,
      "metadata": {
        "id": "EQYRFClIzsNo"
      },
      "outputs": [],
      "source": [
        "model = ChatOpenAI(temperature=0.8)"
      ]
    },
    {
      "cell_type": "code",
      "execution_count": 165,
      "metadata": {
        "id": "R9Dh4U8ZzsNo"
      },
      "outputs": [],
      "source": [
        "final_context = \"\"\n",
        "for doc in retrieved_docs:\n",
        "    final_context = final_context+doc.page_content"
      ]
    },
    {
      "cell_type": "code",
      "execution_count": 166,
      "metadata": {
        "id": "Ek-e-Ys7zsNo"
      },
      "outputs": [],
      "source": [
        "chain = (\n",
        "    RunnablePassthrough()  # Initial passthrough without direct input\n",
        "    | (lambda x: {\"context\": final_context, \"query\": x})  # Lambda to create dict input\n",
        "    | prompt\n",
        "    | model\n",
        "    | StrOutputParser()\n",
        ")"
      ]
    },
    {
      "cell_type": "code",
      "execution_count": 167,
      "metadata": {
        "id": "yUmEH-yYzsNo"
      },
      "outputs": [],
      "source": [
        "res = chain.invoke({\"query\":query})\n"
      ]
    },
    {
      "cell_type": "code",
      "execution_count": 168,
      "metadata": {
        "colab": {
          "base_uri": "https://localhost:8080/"
        },
        "id": "UMKu2dSgzsNo",
        "outputId": "c980ff7f-521b-424f-848f-34b2297ed1f4"
      },
      "outputs": [
        {
          "output_type": "stream",
          "name": "stdout",
          "text": [
            "Companies he has worked in:\n",
            "1. HCL Technologies\n",
            "2. Valeo India Pvt Ltd\n"
          ]
        }
      ],
      "source": [
        "print(res)"
      ]
    },
    {
      "cell_type": "markdown",
      "metadata": {
        "id": "CTxNbXETzsNp"
      },
      "source": [
        "Laura, her father, and mother were engaged in social conversation around the fireside one evening in December when they were startled by a violent knocking on the door of their cottage. Two individuals who had lost their way and were very cold requested to warm themselves by the fire, to which Laura's father and mother agreed. However, the situation took a distressing turn when it was revealed that an execution was to take place in the house. Overwhelmed by the news, Laura and her family could only sigh and faint on the sofa. Subsequently, they found themselves alone in the room, missing both their family members and valuable banknotes.\n"
      ]
    },
    {
      "cell_type": "markdown",
      "source": [
        "# Combining MultiQueryRetriever and RetrievalQA for Question Answering"
      ],
      "metadata": {
        "id": "PzAplab-_jCS"
      }
    },
    {
      "cell_type": "code",
      "source": [
        "\n",
        "from langchain.chains import RetrievalQA\n",
        "\n",
        "retriever = vectorstore.as_retriever(search_type=\"similarity_score_threshold\", search_kwargs={\"k\": 10,\"score_threshold\":0.5})\n",
        "qa = RetrievalQA.from_chain_type(llm=llm, chain_type=\"stuff\", retriever=retriever_from_llm)\n",
        "\n",
        "query = \"count total years of experience in months since he started working?\"\n",
        "result = qa.run(query)\n",
        "\n",
        "result\n"
      ],
      "metadata": {
        "id": "qIBcYhmL8W-J",
        "outputId": "0ed8225a-43fa-4aac-f5cb-9f1ed5d068ce",
        "colab": {
          "base_uri": "https://localhost:8080/",
          "height": 55
        }
      },
      "execution_count": 191,
      "outputs": [
        {
          "output_type": "execute_result",
          "data": {
            "text/plain": [
              "'The individual has 21+ years of experience. To convert this to months:\\n\\n21 years = 21 * 12 = 252 months\\n\\nIf we consider \"21+\" to mean at least 21 years and possibly more, we can say the total is at least 252 months. If we assume \"21+\" means 21 years and a few additional months, the total would be more than 252 months, but without specific additional months, we can only confirm at least 252 months.'"
            ],
            "application/vnd.google.colaboratory.intrinsic+json": {
              "type": "string"
            }
          },
          "metadata": {},
          "execution_count": 191
        }
      ]
    },
    {
      "cell_type": "code",
      "source": [],
      "metadata": {
        "id": "SrrDyqYx8v02"
      },
      "execution_count": null,
      "outputs": []
    }
  ],
  "metadata": {
    "kernelspec": {
      "display_name": ".venv",
      "language": "python",
      "name": "python3"
    },
    "language_info": {
      "codemirror_mode": {
        "name": "ipython",
        "version": 3
      },
      "file_extension": ".py",
      "mimetype": "text/x-python",
      "name": "python",
      "nbconvert_exporter": "python",
      "pygments_lexer": "ipython3",
      "version": "3.12.0"
    },
    "colab": {
      "provenance": [],
      "include_colab_link": true
    }
  },
  "nbformat": 4,
  "nbformat_minor": 0
}
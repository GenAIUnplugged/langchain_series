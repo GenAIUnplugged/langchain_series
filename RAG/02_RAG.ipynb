{
  "nbformat": 4,
  "nbformat_minor": 0,
  "metadata": {
    "colab": {
      "provenance": [],
      "authorship_tag": "ABX9TyMY6rnhsAF1O1girMXSYtHr",
      "include_colab_link": true
    },
    "kernelspec": {
      "name": "python3",
      "display_name": "Python 3"
    },
    "language_info": {
      "name": "python"
    }
  },
  "cells": [
    {
      "cell_type": "markdown",
      "metadata": {
        "id": "view-in-github",
        "colab_type": "text"
      },
      "source": [
        "<a href=\"https://colab.research.google.com/github/GenAIUnplugged/langchain_series/blob/main/02_RAG.ipynb\" target=\"_parent\"><img src=\"https://colab.research.google.com/assets/colab-badge.svg\" alt=\"Open In Colab\"/></a>"
      ]
    },
    {
      "cell_type": "code",
      "execution_count": 7,
      "metadata": {
        "colab": {
          "base_uri": "https://localhost:8080/"
        },
        "id": "l8AShHYBuyX1",
        "outputId": "d59c4cf5-f6c8-4bc0-a0ff-bb1db0f04243"
      },
      "outputs": [
        {
          "output_type": "stream",
          "name": "stdout",
          "text": [
            "Requirement already satisfied: langchain in /usr/local/lib/python3.11/dist-packages (0.3.24)\n",
            "Requirement already satisfied: langchain-core in /usr/local/lib/python3.11/dist-packages (0.3.59)\n",
            "Requirement already satisfied: langchain-community in /usr/local/lib/python3.11/dist-packages (0.3.23)\n",
            "Requirement already satisfied: langchain_openai in /usr/local/lib/python3.11/dist-packages (0.3.16)\n",
            "Requirement already satisfied: faiss-cpu in /usr/local/lib/python3.11/dist-packages (1.11.0)\n",
            "Collecting PyMuPDF\n",
            "  Downloading pymupdf-1.25.5-cp39-abi3-manylinux2014_x86_64.manylinux_2_17_x86_64.whl.metadata (3.4 kB)\n",
            "Requirement already satisfied: langchain-text-splitters<1.0.0,>=0.3.8 in /usr/local/lib/python3.11/dist-packages (from langchain) (0.3.8)\n",
            "Requirement already satisfied: langsmith<0.4,>=0.1.17 in /usr/local/lib/python3.11/dist-packages (from langchain) (0.3.39)\n",
            "Requirement already satisfied: pydantic<3.0.0,>=2.7.4 in /usr/local/lib/python3.11/dist-packages (from langchain) (2.11.4)\n",
            "Requirement already satisfied: SQLAlchemy<3,>=1.4 in /usr/local/lib/python3.11/dist-packages (from langchain) (2.0.40)\n",
            "Requirement already satisfied: requests<3,>=2 in /usr/local/lib/python3.11/dist-packages (from langchain) (2.32.3)\n",
            "Requirement already satisfied: PyYAML>=5.3 in /usr/local/lib/python3.11/dist-packages (from langchain) (6.0.2)\n",
            "Requirement already satisfied: tenacity!=8.4.0,<10.0.0,>=8.1.0 in /usr/local/lib/python3.11/dist-packages (from langchain-core) (9.1.2)\n",
            "Requirement already satisfied: jsonpatch<2.0,>=1.33 in /usr/local/lib/python3.11/dist-packages (from langchain-core) (1.33)\n",
            "Requirement already satisfied: packaging<25,>=23.2 in /usr/local/lib/python3.11/dist-packages (from langchain-core) (24.2)\n",
            "Requirement already satisfied: typing-extensions>=4.7 in /usr/local/lib/python3.11/dist-packages (from langchain-core) (4.13.2)\n",
            "Requirement already satisfied: aiohttp<4.0.0,>=3.8.3 in /usr/local/lib/python3.11/dist-packages (from langchain-community) (3.11.15)\n",
            "Requirement already satisfied: dataclasses-json<0.7,>=0.5.7 in /usr/local/lib/python3.11/dist-packages (from langchain-community) (0.6.7)\n",
            "Requirement already satisfied: pydantic-settings<3.0.0,>=2.4.0 in /usr/local/lib/python3.11/dist-packages (from langchain-community) (2.9.1)\n",
            "Requirement already satisfied: httpx-sse<1.0.0,>=0.4.0 in /usr/local/lib/python3.11/dist-packages (from langchain-community) (0.4.0)\n",
            "Requirement already satisfied: numpy>=1.26.2 in /usr/local/lib/python3.11/dist-packages (from langchain-community) (2.0.2)\n",
            "Requirement already satisfied: openai<2.0.0,>=1.68.2 in /usr/local/lib/python3.11/dist-packages (from langchain_openai) (1.76.2)\n",
            "Requirement already satisfied: tiktoken<1,>=0.7 in /usr/local/lib/python3.11/dist-packages (from langchain_openai) (0.9.0)\n",
            "Requirement already satisfied: aiohappyeyeballs>=2.3.0 in /usr/local/lib/python3.11/dist-packages (from aiohttp<4.0.0,>=3.8.3->langchain-community) (2.6.1)\n",
            "Requirement already satisfied: aiosignal>=1.1.2 in /usr/local/lib/python3.11/dist-packages (from aiohttp<4.0.0,>=3.8.3->langchain-community) (1.3.2)\n",
            "Requirement already satisfied: attrs>=17.3.0 in /usr/local/lib/python3.11/dist-packages (from aiohttp<4.0.0,>=3.8.3->langchain-community) (25.3.0)\n",
            "Requirement already satisfied: frozenlist>=1.1.1 in /usr/local/lib/python3.11/dist-packages (from aiohttp<4.0.0,>=3.8.3->langchain-community) (1.6.0)\n",
            "Requirement already satisfied: multidict<7.0,>=4.5 in /usr/local/lib/python3.11/dist-packages (from aiohttp<4.0.0,>=3.8.3->langchain-community) (6.4.3)\n",
            "Requirement already satisfied: propcache>=0.2.0 in /usr/local/lib/python3.11/dist-packages (from aiohttp<4.0.0,>=3.8.3->langchain-community) (0.3.1)\n",
            "Requirement already satisfied: yarl<2.0,>=1.17.0 in /usr/local/lib/python3.11/dist-packages (from aiohttp<4.0.0,>=3.8.3->langchain-community) (1.20.0)\n",
            "Requirement already satisfied: marshmallow<4.0.0,>=3.18.0 in /usr/local/lib/python3.11/dist-packages (from dataclasses-json<0.7,>=0.5.7->langchain-community) (3.26.1)\n",
            "Requirement already satisfied: typing-inspect<1,>=0.4.0 in /usr/local/lib/python3.11/dist-packages (from dataclasses-json<0.7,>=0.5.7->langchain-community) (0.9.0)\n",
            "Requirement already satisfied: jsonpointer>=1.9 in /usr/local/lib/python3.11/dist-packages (from jsonpatch<2.0,>=1.33->langchain-core) (3.0.0)\n",
            "Requirement already satisfied: httpx<1,>=0.23.0 in /usr/local/lib/python3.11/dist-packages (from langsmith<0.4,>=0.1.17->langchain) (0.28.1)\n",
            "Requirement already satisfied: orjson<4.0.0,>=3.9.14 in /usr/local/lib/python3.11/dist-packages (from langsmith<0.4,>=0.1.17->langchain) (3.10.18)\n",
            "Requirement already satisfied: requests-toolbelt<2.0.0,>=1.0.0 in /usr/local/lib/python3.11/dist-packages (from langsmith<0.4,>=0.1.17->langchain) (1.0.0)\n",
            "Requirement already satisfied: zstandard<0.24.0,>=0.23.0 in /usr/local/lib/python3.11/dist-packages (from langsmith<0.4,>=0.1.17->langchain) (0.23.0)\n",
            "Requirement already satisfied: anyio<5,>=3.5.0 in /usr/local/lib/python3.11/dist-packages (from openai<2.0.0,>=1.68.2->langchain_openai) (4.9.0)\n",
            "Requirement already satisfied: distro<2,>=1.7.0 in /usr/local/lib/python3.11/dist-packages (from openai<2.0.0,>=1.68.2->langchain_openai) (1.9.0)\n",
            "Requirement already satisfied: jiter<1,>=0.4.0 in /usr/local/lib/python3.11/dist-packages (from openai<2.0.0,>=1.68.2->langchain_openai) (0.9.0)\n",
            "Requirement already satisfied: sniffio in /usr/local/lib/python3.11/dist-packages (from openai<2.0.0,>=1.68.2->langchain_openai) (1.3.1)\n",
            "Requirement already satisfied: tqdm>4 in /usr/local/lib/python3.11/dist-packages (from openai<2.0.0,>=1.68.2->langchain_openai) (4.67.1)\n",
            "Requirement already satisfied: annotated-types>=0.6.0 in /usr/local/lib/python3.11/dist-packages (from pydantic<3.0.0,>=2.7.4->langchain) (0.7.0)\n",
            "Requirement already satisfied: pydantic-core==2.33.2 in /usr/local/lib/python3.11/dist-packages (from pydantic<3.0.0,>=2.7.4->langchain) (2.33.2)\n",
            "Requirement already satisfied: typing-inspection>=0.4.0 in /usr/local/lib/python3.11/dist-packages (from pydantic<3.0.0,>=2.7.4->langchain) (0.4.0)\n",
            "Requirement already satisfied: python-dotenv>=0.21.0 in /usr/local/lib/python3.11/dist-packages (from pydantic-settings<3.0.0,>=2.4.0->langchain-community) (1.1.0)\n",
            "Requirement already satisfied: charset-normalizer<4,>=2 in /usr/local/lib/python3.11/dist-packages (from requests<3,>=2->langchain) (3.4.1)\n",
            "Requirement already satisfied: idna<4,>=2.5 in /usr/local/lib/python3.11/dist-packages (from requests<3,>=2->langchain) (3.10)\n",
            "Requirement already satisfied: urllib3<3,>=1.21.1 in /usr/local/lib/python3.11/dist-packages (from requests<3,>=2->langchain) (2.4.0)\n",
            "Requirement already satisfied: certifi>=2017.4.17 in /usr/local/lib/python3.11/dist-packages (from requests<3,>=2->langchain) (2025.4.26)\n",
            "Requirement already satisfied: greenlet>=1 in /usr/local/lib/python3.11/dist-packages (from SQLAlchemy<3,>=1.4->langchain) (3.2.1)\n",
            "Requirement already satisfied: regex>=2022.1.18 in /usr/local/lib/python3.11/dist-packages (from tiktoken<1,>=0.7->langchain_openai) (2024.11.6)\n",
            "Requirement already satisfied: httpcore==1.* in /usr/local/lib/python3.11/dist-packages (from httpx<1,>=0.23.0->langsmith<0.4,>=0.1.17->langchain) (1.0.9)\n",
            "Requirement already satisfied: h11>=0.16 in /usr/local/lib/python3.11/dist-packages (from httpcore==1.*->httpx<1,>=0.23.0->langsmith<0.4,>=0.1.17->langchain) (0.16.0)\n",
            "Requirement already satisfied: mypy-extensions>=0.3.0 in /usr/local/lib/python3.11/dist-packages (from typing-inspect<1,>=0.4.0->dataclasses-json<0.7,>=0.5.7->langchain-community) (1.1.0)\n",
            "Downloading pymupdf-1.25.5-cp39-abi3-manylinux2014_x86_64.manylinux_2_17_x86_64.whl (20.0 MB)\n",
            "\u001b[2K   \u001b[90m━━━━━━━━━━━━━━━━━━━━━━━━━━━━━━━━━━━━━━━━\u001b[0m \u001b[32m20.0/20.0 MB\u001b[0m \u001b[31m92.0 MB/s\u001b[0m eta \u001b[36m0:00:00\u001b[0m\n",
            "\u001b[?25hInstalling collected packages: PyMuPDF\n",
            "Successfully installed PyMuPDF-1.25.5\n"
          ]
        }
      ],
      "source": [
        "!pip install langchain langchain-core langchain-community langchain_openai faiss-cpu PyMuPDF"
      ]
    },
    {
      "cell_type": "markdown",
      "source": [
        "# Semantic Search\n",
        "search_type = similarity \\\n",
        "search_kwargs = k: number of top results to return"
      ],
      "metadata": {
        "id": "QWraqb27xaxt"
      }
    },
    {
      "cell_type": "code",
      "source": [
        "from google.colab import userdata\n",
        "import os\n",
        "os.environ[\"OPENAI_API_KEY\"] = userdata.get('OPENAI_API_KEY')"
      ],
      "metadata": {
        "id": "24c74fFdu0Yg"
      },
      "execution_count": 2,
      "outputs": []
    },
    {
      "cell_type": "code",
      "source": [
        "from google.colab import drive\n",
        "drive.mount('/content/drive')"
      ],
      "metadata": {
        "colab": {
          "base_uri": "https://localhost:8080/"
        },
        "id": "ON87sQFNvCeA",
        "outputId": "f1ae8282-4cfa-4977-a294-c281174f1d87"
      },
      "execution_count": 3,
      "outputs": [
        {
          "output_type": "stream",
          "name": "stdout",
          "text": [
            "Mounted at /content/drive\n"
          ]
        }
      ]
    },
    {
      "cell_type": "code",
      "source": [
        "from langchain_openai import ChatOpenAI\n",
        "from langchain.text_splitter import RecursiveCharacterTextSplitter\n",
        "from langchain.document_loaders import PyMuPDFLoader\n",
        "from langchain.embeddings.openai import OpenAIEmbeddings\n",
        "from langchain.vectorstores import FAISS\n",
        "from langchain.chains import RetrievalQA\n",
        "url = \"/content/drive/MyDrive/langchain/data/Guideline for Vector DaVinci configurator tool.pdf\""
      ],
      "metadata": {
        "id": "Nf5zc0ysvHeu"
      },
      "execution_count": 10,
      "outputs": []
    },
    {
      "cell_type": "code",
      "source": [
        "loader = PyMuPDFLoader(url)\n",
        "docs = loader.load()"
      ],
      "metadata": {
        "id": "4S18aBzNvhWU"
      },
      "execution_count": 11,
      "outputs": []
    },
    {
      "cell_type": "code",
      "source": [
        "len(docs),type(docs)"
      ],
      "metadata": {
        "colab": {
          "base_uri": "https://localhost:8080/"
        },
        "id": "OLv_wKAEv9G_",
        "outputId": "d4eb2ac2-56d6-42b8-ab28-999d07ea5659"
      },
      "execution_count": 15,
      "outputs": [
        {
          "output_type": "execute_result",
          "data": {
            "text/plain": [
              "(22, list)"
            ]
          },
          "metadata": {},
          "execution_count": 15
        }
      ]
    },
    {
      "cell_type": "code",
      "source": [
        "text_splitter = RecursiveCharacterTextSplitter(chunk_size=1000, chunk_overlap=200)\n",
        "texts = text_splitter.split_documents(docs)"
      ],
      "metadata": {
        "id": "PBkuQ1oAwDMN"
      },
      "execution_count": 16,
      "outputs": []
    },
    {
      "cell_type": "code",
      "source": [
        "len(texts),type(texts)"
      ],
      "metadata": {
        "colab": {
          "base_uri": "https://localhost:8080/"
        },
        "id": "JAu1Jo2WwORu",
        "outputId": "15404095-7414-4eb2-c7a1-926687779b4c"
      },
      "execution_count": 20,
      "outputs": [
        {
          "output_type": "execute_result",
          "data": {
            "text/plain": [
              "(58, list)"
            ]
          },
          "metadata": {},
          "execution_count": 20
        }
      ]
    },
    {
      "cell_type": "code",
      "source": [
        "embeddings = OpenAIEmbeddings()\n",
        "vectorstores = FAISS.from_documents(texts, embeddings)"
      ],
      "metadata": {
        "colab": {
          "base_uri": "https://localhost:8080/"
        },
        "id": "CxjhkNQLwPNl",
        "outputId": "991ebc63-d7c8-428e-d545-fd36284b2ac8"
      },
      "execution_count": 21,
      "outputs": [
        {
          "output_type": "stream",
          "name": "stderr",
          "text": [
            "<ipython-input-21-bc6df2653cc4>:1: LangChainDeprecationWarning: The class `OpenAIEmbeddings` was deprecated in LangChain 0.0.9 and will be removed in 1.0. An updated version of the class exists in the :class:`~langchain-openai package and should be used instead. To use it run `pip install -U :class:`~langchain-openai` and import as `from :class:`~langchain_openai import OpenAIEmbeddings``.\n",
            "  embeddings = OpenAIEmbeddings()\n"
          ]
        }
      ]
    },
    {
      "cell_type": "code",
      "source": [
        "retriever = vectorstores.as_retriever(search_type=\"similarity\", search_kwargs={\"k\": 3})"
      ],
      "metadata": {
        "id": "8KI6QadawhaW"
      },
      "execution_count": 22,
      "outputs": []
    },
    {
      "cell_type": "code",
      "source": [
        "llm = ChatOpenAI(model_name=\"gpt-4o-mini\", temperature=0)"
      ],
      "metadata": {
        "id": "LFInmBEtwx89"
      },
      "execution_count": 23,
      "outputs": []
    },
    {
      "cell_type": "code",
      "source": [
        "qa_chain = RetrievalQA.from_chain_type(llm, chain_type=\"stuff\", retriever=retriever)"
      ],
      "metadata": {
        "id": "cPsFo4b5wqQe"
      },
      "execution_count": 24,
      "outputs": []
    },
    {
      "cell_type": "code",
      "source": [
        "query = \"Provide a brief summary of the document\"\n",
        "answer = qa_chain.invoke(query)\n",
        "answer['result']"
      ],
      "metadata": {
        "colab": {
          "base_uri": "https://localhost:8080/",
          "height": 159
        },
        "id": "lhGAeMokw1Fu",
        "outputId": "f1ba18f0-8fa0-439e-dfec-f479dc279672"
      },
      "execution_count": 26,
      "outputs": [
        {
          "output_type": "execute_result",
          "data": {
            "text/plain": [
              "'The document appears to be a guide or manual related to the DaVinci tool, covering various functionalities and features. It includes sections on how to use PDF within DaVinci, launching the tool, creating new projects, familiarizing with options, creating configurations using PDF, and import/export functionalities. Additionally, it discusses modifying existing configurations, generating reports, listing generated and output files, and performing generation and compilation without the DaVinci Configurator. There are also sections on generating and compiling using batch files and differences in BUILD option arguments. The document includes figures to illustrate various elements of the DaVinci tool.'"
            ],
            "application/vnd.google.colaboratory.intrinsic+json": {
              "type": "string"
            }
          },
          "metadata": {},
          "execution_count": 26
        }
      ]
    },
    {
      "cell_type": "markdown",
      "source": [
        "# Similarity Score Threshold\n",
        "search_type = similarity_score_threshold \\\n",
        "search_kwargs = score_threshold: filter results below this score"
      ],
      "metadata": {
        "id": "82S3Fn-sxlEd"
      }
    },
    {
      "cell_type": "code",
      "source": [
        "retriever = vectorstores.as_retriever(search_type=\"similarity_score_threshold\", search_kwargs={\"score_threshold\": 0.6,\"k\":3})\n",
        "qa_chain = RetrievalQA.from_chain_type(llm, chain_type=\"stuff\", retriever=retriever)\n",
        "query = \"Provide a brief summary of the document\"\n",
        "answer = qa_chain.invoke(query)\n",
        "answer['result']"
      ],
      "metadata": {
        "colab": {
          "base_uri": "https://localhost:8080/",
          "height": 159
        },
        "id": "HwmNq4y4xMe2",
        "outputId": "a3a1487e-c684-47a9-ff25-ace2c937fdae"
      },
      "execution_count": 30,
      "outputs": [
        {
          "output_type": "execute_result",
          "data": {
            "text/plain": [
              "'The document appears to be a guide or manual related to the DaVinci tool, covering various functionalities and features. It includes sections on how to use PDF within DaVinci, launching the tool, creating new projects, familiarizing users with the options available, creating new configurations using PDF, and the import/export functionality. Additionally, it discusses modifying existing configurations, generating reports, listing generated and output files, and performing generation and compilation without using the DaVinci Configurator. There are also sections on generating and compiling using batch files and the differences in arguments for the BUILD option. The document concludes with a revision history.'"
            ],
            "application/vnd.google.colaboratory.intrinsic+json": {
              "type": "string"
            }
          },
          "metadata": {},
          "execution_count": 30
        }
      ]
    },
    {
      "cell_type": "markdown",
      "source": [
        "# Similarity Search With Score\n",
        "similarity_search_with_score(query)\n",
        "This is a method on the VectorStore object that:\n",
        "* Performs a similarity search\n",
        "* Returns a list of tuples: (document, score)\n",
        "* You handle any filtering based on score afterward"
      ],
      "metadata": {
        "id": "AHHVOyBly6PN"
      }
    },
    {
      "cell_type": "code",
      "source": [
        "docs_with_scores = vectorstores.similarity_search_with_score(query,k=3)\n",
        "filtered_docs = [doc for doc, score in docs_with_scores if score > 0.4]\n",
        "filtered_docs"
      ],
      "metadata": {
        "colab": {
          "base_uri": "https://localhost:8080/"
        },
        "id": "-af8Dm9Dxj6F",
        "outputId": "9add8fd2-c81e-4ce8-cc29-6b55d1579801"
      },
      "execution_count": 40,
      "outputs": [
        {
          "output_type": "execute_result",
          "data": {
            "text/plain": [
              "[Document(id='37b8c224-e57c-4571-92a6-dce790f50338', metadata={'producer': 'Adobe PDF Library 15.0', 'creator': 'Acrobat PDFMaker 17 for Word', 'creationdate': '2023-06-21T10:04:34+02:00', 'source': '/content/drive/MyDrive/langchain/data/Guideline for Vector DaVinci configurator tool.pdf', 'file_path': '/content/drive/MyDrive/langchain/data/Guideline for Vector DaVinci configurator tool.pdf', 'total_pages': 22, 'format': 'PDF 1.6', 'title': 'Guideline for Vector DaVinci Configurator Tool', 'author': 'Renesas Electronics Corporation', 'subject': 'R01AN6904EA0100', 'keywords': 'MCAL DaVinci', 'moddate': '2023-06-21T10:05:57+02:00', 'trapped': '', 'encryption': 'Standard V4 R4 128-bit AES', 'modDate': \"D:20230621100557+02'00'\", 'creationDate': \"D:20230621100434+02'00'\", 'page': 0}, page_content='2.2.1. \\nUsage of PDF in DaVinci ........................................................................................................ 6 \\n2.2.2. \\nHow to Launch or open DaVinci tool ....................................................................................... 6 \\n2.2.3. \\nCreate New Project ................................................................................................................. 6 \\n2.2.4. \\nFamiliarize all the options present in DaVinci. ........................................................................ 7 \\n2.2.5. \\nCreate a New Configuration using PDF. ............................................................................... 11 \\n2.2.6. \\nImport & Export functionality. ................................................................................................ 12 \\n2.2.7. \\nModify an existing/available Configuration. ........................................................................... 13 \\n2.2.8.'),\n",
              " Document(id='75ad08cd-bb2b-4801-9e15-aca968d03521', metadata={'producer': 'Adobe PDF Library 15.0', 'creator': 'Acrobat PDFMaker 17 for Word', 'creationdate': '2023-06-21T10:04:34+02:00', 'source': '/content/drive/MyDrive/langchain/data/Guideline for Vector DaVinci configurator tool.pdf', 'file_path': '/content/drive/MyDrive/langchain/data/Guideline for Vector DaVinci configurator tool.pdf', 'total_pages': 22, 'format': 'PDF 1.6', 'title': 'Guideline for Vector DaVinci Configurator Tool', 'author': 'Renesas Electronics Corporation', 'subject': 'R01AN6904EA0100', 'keywords': 'MCAL DaVinci', 'moddate': '2023-06-21T10:05:57+02:00', 'trapped': '', 'encryption': 'Standard V4 R4 128-bit AES', 'modDate': \"D:20230621100557+02'00'\", 'creationDate': \"D:20230621100434+02'00'\", 'page': 0}, page_content='2.3.4. \\nGeneration Report ................................................................................................................. 19 \\n2.3.5. \\nList of Generated and Output files ........................................................................................ 19 \\n2.4 \\nPerform Generation and Compilation without using DaVinci Configurator ......................................... 20 \\n2.4.1. \\nHow to generate and compile using Batch file ...................................................................... 20 \\n2.4.2. \\nDifference between the argument of BUILD Option ............................................................. 21 \\n3. \\nRevision History .......................................................................................................................................... 22'),\n",
              " Document(id='648e71be-1dcc-48e1-9ae3-5fa7ff982272', metadata={'producer': 'Adobe PDF Library 15.0', 'creator': 'Acrobat PDFMaker 17 for Word', 'creationdate': '2023-06-21T10:04:34+02:00', 'source': '/content/drive/MyDrive/langchain/data/Guideline for Vector DaVinci configurator tool.pdf', 'file_path': '/content/drive/MyDrive/langchain/data/Guideline for Vector DaVinci configurator tool.pdf', 'total_pages': 22, 'format': 'PDF 1.6', 'title': 'Guideline for Vector DaVinci Configurator Tool', 'author': 'Renesas Electronics Corporation', 'subject': 'R01AN6904EA0100', 'keywords': 'MCAL DaVinci', 'moddate': '2023-06-21T10:05:57+02:00', 'trapped': '', 'encryption': 'Standard V4 R4 128-bit AES', 'modDate': \"D:20230621100557+02'00'\", 'creationDate': \"D:20230621100434+02'00'\", 'page': 1}, page_content='Figure 5 : DaVinci Project Name and Folder Name ................................................................................................. 7 \\nFigure 6 : File ............................................................................................................................................................ 7 \\nFigure 7 : View .......................................................................................................................................................... 8 \\nFigure 8 : Project ...................................................................................................................................................... 9 \\nFigure 9 : Elements of Basic Editor ........................................................................................................................10 \\nFigure 10 : Basic Editor and Properties of Elements ..............................................................................................10')]"
            ]
          },
          "metadata": {},
          "execution_count": 40
        }
      ]
    },
    {
      "cell_type": "markdown",
      "source": [
        "Use LLM to Generate Answer from Filtered Docs \\\n",
        "We are using load_qa_chain from langchain.chains.question_answering \\\n",
        "\n",
        "Both load_qa_chain and RetrievalQA are used in LangChain to build question answering systems, but they serve slightly different purposes and are used in different contexts.It's useful when you already have the relevant documents that you want the language model to consider for answering the question \\\\\n",
        "\n",
        "**load_qa_chain** is specifically designed to take a language model (llm) and a list of input_documents and answer a question based only on the information contained within those provided documents. \\\\\n",
        "\n",
        "**RetrievalQA** is a higher-level chain that combines retrieval and question answering. \\\n",
        "It takes a language model (llm) and a retriever object as input.\n",
        "The retriever is responsible for fetching relevant documents based on a user's query. This often involves searching a vector store (like the FAISS vector store used in this code) for documents similar to the query.\n",
        "After the documents are retrieved by the retriever, RetrievalQA then passes these retrieved documents along with the original query to the language model to generate an answer.\n",
        "\n"
      ],
      "metadata": {
        "id": "zOB_IOnIz9ml"
      }
    },
    {
      "cell_type": "code",
      "source": [
        "from langchain.chains.question_answering import load_qa_chain\n",
        "\n",
        "qa_chain = load_qa_chain(llm, chain_type=\"stuff\")\n",
        "\n",
        "# Run the QA chain\n",
        "response = qa_chain.run(input_documents=filtered_docs, question=query)\n",
        "print(response)\n"
      ],
      "metadata": {
        "colab": {
          "base_uri": "https://localhost:8080/"
        },
        "id": "ScZQDHWezwKu",
        "outputId": "9225e3fa-83d1-43d1-f085-e65389aff5c3"
      },
      "execution_count": 41,
      "outputs": [
        {
          "output_type": "stream",
          "name": "stderr",
          "text": [
            "<ipython-input-41-0974bc848553>:6: LangChainDeprecationWarning: The method `Chain.run` was deprecated in langchain 0.1.0 and will be removed in 1.0. Use :meth:`~invoke` instead.\n",
            "  response = qa_chain.run(input_documents=filtered_docs, question=query)\n"
          ]
        },
        {
          "output_type": "stream",
          "name": "stdout",
          "text": [
            "The document appears to be a guide or manual related to the DaVinci tool, covering various functionalities and features. It includes sections on how to use PDF within DaVinci, launching the tool, creating new projects, familiarizing users with the options available, creating new configurations using PDF, and the import/export functionality. Additionally, it discusses modifying existing configurations, generating reports, listing generated and output files, and performing generation and compilation without using the DaVinci Configurator. There are also sections on generating and compiling using batch files and the differences between BUILD option arguments. The document includes figures to illustrate various elements of the DaVinci tool.\n"
          ]
        }
      ]
    },
    {
      "cell_type": "markdown",
      "source": [
        "# Using PromptTemplates with RetrievalQA and load_qa_chain\n",
        "We are using SystemMessagePromptTemplate and HumanMessagePromptTemplate"
      ],
      "metadata": {
        "id": "d1pDFPeB2NdN"
      }
    },
    {
      "source": [
        "from langchain.chains.question_answering import load_qa_chain\n",
        "from langchain.prompts import ChatPromptTemplate, SystemMessagePromptTemplate, HumanMessagePromptTemplate\n",
        "\n",
        "# Define the system message template\n",
        "system_template = \"You are a helpful AI assistant that answers questions based on the provided documents.\"\n",
        "system_message_prompt = SystemMessagePromptTemplate.from_template(system_template)\n",
        "\n",
        "# Define the human message template with placeholders for context and question\n",
        "human_template = \"\"\"Please answer the question based on the following context:\n",
        "{context}\n",
        "\n",
        "Question: {question}\"\"\"\n",
        "human_message_prompt = HumanMessagePromptTemplate.from_template(human_template)\n",
        "\n",
        "# Combine the system and human message prompts into a chat prompt template\n",
        "chat_prompt = ChatPromptTemplate.from_messages([system_message_prompt, human_message_prompt])\n",
        "\n",
        "# Load the QA chain with the defined prompt\n",
        "qa_chain = load_qa_chain(llm, chain_type=\"stuff\", prompt=chat_prompt)\n",
        "\n",
        "# Run the QA chain\n",
        "response = qa_chain.run(input_documents=filtered_docs, question=query)\n",
        "print(response)"
      ],
      "cell_type": "code",
      "metadata": {
        "colab": {
          "base_uri": "https://localhost:8080/"
        },
        "id": "qHo8RNhj13_e",
        "outputId": "d1e0bee6-2d51-443e-c322-852066abb5b3"
      },
      "execution_count": 42,
      "outputs": [
        {
          "output_type": "stream",
          "name": "stdout",
          "text": [
            "The document appears to be a guide or manual related to the DaVinci tool, covering various functionalities and features. It includes sections on how to use PDF within DaVinci, launching the tool, creating new projects, and familiarizing users with the available options. Additionally, it discusses creating new configurations using PDF, as well as import and export functionalities. There are instructions for modifying existing configurations and generating reports, along with a list of generated and output files. The document also addresses performing generation and compilation without the DaVinci Configurator, including how to use batch files and the differences in BUILD option arguments. Lastly, it contains a revision history section. Various figures are referenced throughout the document to illustrate key concepts and features.\n"
          ]
        }
      ]
    },
    {
      "cell_type": "markdown",
      "source": [
        "In the provided human_template, the placeholders {context} and {question} are fixed and are filled by LangChain when the prompt is used within a chain, like load_qa_chain or RetrievalQA. \\\n",
        "\n",
        "**Here's how it works:** \\\n",
        "\n",
        "**{context}:** When you use a chain like load_qa_chain and pass in input_documents, LangChain takes the content of these documents and inserts them into the {context} placeholder in the template. \\\n",
        "**{question}:** The user's query or question is inserted into the {question} placeholder. \\\n",
        "LangChain is designed to handle this variable substitution, creating a complete prompt that includes both the relevant context from the retrieved documents and the user's question, which is then sent to the language model."
      ],
      "metadata": {
        "id": "IRhpkSoQ3Tcs"
      }
    },
    {
      "cell_type": "code",
      "source": [],
      "metadata": {
        "id": "JHNZ3OdA2KkO"
      },
      "execution_count": null,
      "outputs": []
    }
  ]
}

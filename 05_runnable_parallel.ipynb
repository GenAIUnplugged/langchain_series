{
  "nbformat": 4,
  "nbformat_minor": 0,
  "metadata": {
    "colab": {
      "provenance": [],
      "authorship_tag": "ABX9TyMY/GgD46qlTLtmA9iqMq3g",
      "include_colab_link": true
    },
    "kernelspec": {
      "name": "python3",
      "display_name": "Python 3"
    },
    "language_info": {
      "name": "python"
    }
  },
  "cells": [
    {
      "cell_type": "markdown",
      "metadata": {
        "id": "view-in-github",
        "colab_type": "text"
      },
      "source": [
        "<a href=\"https://colab.research.google.com/github/GenAIUnplugged/langchain_series/blob/main/05_runnable_parallel.ipynb\" target=\"_parent\"><img src=\"https://colab.research.google.com/assets/colab-badge.svg\" alt=\"Open In Colab\"/></a>"
      ]
    },
    {
      "cell_type": "code",
      "execution_count": null,
      "metadata": {
        "colab": {
          "base_uri": "https://localhost:8080/"
        },
        "id": "GSLyRYF6_tu7",
        "outputId": "1c9f5a51-34a4-49ae-8233-95a3f4c038e3"
      },
      "outputs": [
        {
          "output_type": "stream",
          "name": "stdout",
          "text": [
            "Requirement already satisfied: langchain in /usr/local/lib/python3.11/dist-packages (0.3.24)\n",
            "Collecting langchain-openai\n",
            "  Downloading langchain_openai-0.3.16-py3-none-any.whl.metadata (2.3 kB)\n",
            "Requirement already satisfied: langchain-core<1.0.0,>=0.3.55 in /usr/local/lib/python3.11/dist-packages (from langchain) (0.3.56)\n",
            "Requirement already satisfied: langchain-text-splitters<1.0.0,>=0.3.8 in /usr/local/lib/python3.11/dist-packages (from langchain) (0.3.8)\n",
            "Requirement already satisfied: langsmith<0.4,>=0.1.17 in /usr/local/lib/python3.11/dist-packages (from langchain) (0.3.39)\n",
            "Requirement already satisfied: pydantic<3.0.0,>=2.7.4 in /usr/local/lib/python3.11/dist-packages (from langchain) (2.11.4)\n",
            "Requirement already satisfied: SQLAlchemy<3,>=1.4 in /usr/local/lib/python3.11/dist-packages (from langchain) (2.0.40)\n",
            "Requirement already satisfied: requests<3,>=2 in /usr/local/lib/python3.11/dist-packages (from langchain) (2.32.3)\n",
            "Requirement already satisfied: PyYAML>=5.3 in /usr/local/lib/python3.11/dist-packages (from langchain) (6.0.2)\n",
            "Collecting langchain-core<1.0.0,>=0.3.55 (from langchain)\n",
            "  Downloading langchain_core-0.3.59-py3-none-any.whl.metadata (5.9 kB)\n",
            "Requirement already satisfied: openai<2.0.0,>=1.68.2 in /usr/local/lib/python3.11/dist-packages (from langchain-openai) (1.76.2)\n",
            "Collecting tiktoken<1,>=0.7 (from langchain-openai)\n",
            "  Downloading tiktoken-0.9.0-cp311-cp311-manylinux_2_17_x86_64.manylinux2014_x86_64.whl.metadata (6.7 kB)\n",
            "Requirement already satisfied: tenacity!=8.4.0,<10.0.0,>=8.1.0 in /usr/local/lib/python3.11/dist-packages (from langchain-core<1.0.0,>=0.3.55->langchain) (9.1.2)\n",
            "Requirement already satisfied: jsonpatch<2.0,>=1.33 in /usr/local/lib/python3.11/dist-packages (from langchain-core<1.0.0,>=0.3.55->langchain) (1.33)\n",
            "Requirement already satisfied: packaging<25,>=23.2 in /usr/local/lib/python3.11/dist-packages (from langchain-core<1.0.0,>=0.3.55->langchain) (24.2)\n",
            "Requirement already satisfied: typing-extensions>=4.7 in /usr/local/lib/python3.11/dist-packages (from langchain-core<1.0.0,>=0.3.55->langchain) (4.13.2)\n",
            "Requirement already satisfied: httpx<1,>=0.23.0 in /usr/local/lib/python3.11/dist-packages (from langsmith<0.4,>=0.1.17->langchain) (0.28.1)\n",
            "Requirement already satisfied: orjson<4.0.0,>=3.9.14 in /usr/local/lib/python3.11/dist-packages (from langsmith<0.4,>=0.1.17->langchain) (3.10.18)\n",
            "Requirement already satisfied: requests-toolbelt<2.0.0,>=1.0.0 in /usr/local/lib/python3.11/dist-packages (from langsmith<0.4,>=0.1.17->langchain) (1.0.0)\n",
            "Requirement already satisfied: zstandard<0.24.0,>=0.23.0 in /usr/local/lib/python3.11/dist-packages (from langsmith<0.4,>=0.1.17->langchain) (0.23.0)\n",
            "Requirement already satisfied: anyio<5,>=3.5.0 in /usr/local/lib/python3.11/dist-packages (from openai<2.0.0,>=1.68.2->langchain-openai) (4.9.0)\n",
            "Requirement already satisfied: distro<2,>=1.7.0 in /usr/local/lib/python3.11/dist-packages (from openai<2.0.0,>=1.68.2->langchain-openai) (1.9.0)\n",
            "Requirement already satisfied: jiter<1,>=0.4.0 in /usr/local/lib/python3.11/dist-packages (from openai<2.0.0,>=1.68.2->langchain-openai) (0.9.0)\n",
            "Requirement already satisfied: sniffio in /usr/local/lib/python3.11/dist-packages (from openai<2.0.0,>=1.68.2->langchain-openai) (1.3.1)\n",
            "Requirement already satisfied: tqdm>4 in /usr/local/lib/python3.11/dist-packages (from openai<2.0.0,>=1.68.2->langchain-openai) (4.67.1)\n",
            "Requirement already satisfied: annotated-types>=0.6.0 in /usr/local/lib/python3.11/dist-packages (from pydantic<3.0.0,>=2.7.4->langchain) (0.7.0)\n",
            "Requirement already satisfied: pydantic-core==2.33.2 in /usr/local/lib/python3.11/dist-packages (from pydantic<3.0.0,>=2.7.4->langchain) (2.33.2)\n",
            "Requirement already satisfied: typing-inspection>=0.4.0 in /usr/local/lib/python3.11/dist-packages (from pydantic<3.0.0,>=2.7.4->langchain) (0.4.0)\n",
            "Requirement already satisfied: charset-normalizer<4,>=2 in /usr/local/lib/python3.11/dist-packages (from requests<3,>=2->langchain) (3.4.1)\n",
            "Requirement already satisfied: idna<4,>=2.5 in /usr/local/lib/python3.11/dist-packages (from requests<3,>=2->langchain) (3.10)\n",
            "Requirement already satisfied: urllib3<3,>=1.21.1 in /usr/local/lib/python3.11/dist-packages (from requests<3,>=2->langchain) (2.4.0)\n",
            "Requirement already satisfied: certifi>=2017.4.17 in /usr/local/lib/python3.11/dist-packages (from requests<3,>=2->langchain) (2025.4.26)\n",
            "Requirement already satisfied: greenlet>=1 in /usr/local/lib/python3.11/dist-packages (from SQLAlchemy<3,>=1.4->langchain) (3.2.1)\n",
            "Requirement already satisfied: regex>=2022.1.18 in /usr/local/lib/python3.11/dist-packages (from tiktoken<1,>=0.7->langchain-openai) (2024.11.6)\n",
            "Requirement already satisfied: httpcore==1.* in /usr/local/lib/python3.11/dist-packages (from httpx<1,>=0.23.0->langsmith<0.4,>=0.1.17->langchain) (1.0.9)\n",
            "Requirement already satisfied: h11>=0.16 in /usr/local/lib/python3.11/dist-packages (from httpcore==1.*->httpx<1,>=0.23.0->langsmith<0.4,>=0.1.17->langchain) (0.16.0)\n",
            "Requirement already satisfied: jsonpointer>=1.9 in /usr/local/lib/python3.11/dist-packages (from jsonpatch<2.0,>=1.33->langchain-core<1.0.0,>=0.3.55->langchain) (3.0.0)\n",
            "Downloading langchain_openai-0.3.16-py3-none-any.whl (62 kB)\n",
            "\u001b[2K   \u001b[90m━━━━━━━━━━━━━━━━━━━━━━━━━━━━━━━━━━━━━━━━\u001b[0m \u001b[32m62.8/62.8 kB\u001b[0m \u001b[31m2.8 MB/s\u001b[0m eta \u001b[36m0:00:00\u001b[0m\n",
            "\u001b[?25hDownloading langchain_core-0.3.59-py3-none-any.whl (437 kB)\n",
            "\u001b[2K   \u001b[90m━━━━━━━━━━━━━━━━━━━━━━━━━━━━━━━━━━━━━━━━\u001b[0m \u001b[32m437.7/437.7 kB\u001b[0m \u001b[31m18.3 MB/s\u001b[0m eta \u001b[36m0:00:00\u001b[0m\n",
            "\u001b[?25hDownloading tiktoken-0.9.0-cp311-cp311-manylinux_2_17_x86_64.manylinux2014_x86_64.whl (1.2 MB)\n",
            "\u001b[2K   \u001b[90m━━━━━━━━━━━━━━━━━━━━━━━━━━━━━━━━━━━━━━━━\u001b[0m \u001b[32m1.2/1.2 MB\u001b[0m \u001b[31m43.7 MB/s\u001b[0m eta \u001b[36m0:00:00\u001b[0m\n",
            "\u001b[?25hInstalling collected packages: tiktoken, langchain-core, langchain-openai\n",
            "  Attempting uninstall: langchain-core\n",
            "    Found existing installation: langchain-core 0.3.56\n",
            "    Uninstalling langchain-core-0.3.56:\n",
            "      Successfully uninstalled langchain-core-0.3.56\n",
            "Successfully installed langchain-core-0.3.59 langchain-openai-0.3.16 tiktoken-0.9.0\n"
          ]
        }
      ],
      "source": [
        "!pip install langchain langchain-openai"
      ]
    },
    {
      "cell_type": "code",
      "source": [
        "from langchain.prompts import ChatPromptTemplate\n",
        "from langchain.schema.output_parser import StrOutputParser\n",
        "from langchain.schema.runnable import RunnableParallel, RunnableLambda\n",
        "from langchain_openai import ChatOpenAI"
      ],
      "metadata": {
        "id": "TUycUDZH_y3f"
      },
      "execution_count": null,
      "outputs": []
    },
    {
      "cell_type": "code",
      "source": [
        "from google.colab import userdata\n",
        "import os\n",
        "os.environ['OPENAI_API_KEY'] = userdata.get('OPENAI_API_KEY')"
      ],
      "metadata": {
        "id": "icFFR8Xn_6jW"
      },
      "execution_count": null,
      "outputs": []
    },
    {
      "cell_type": "code",
      "source": [
        "# Create a ChatOpenAI model\n",
        "model = ChatOpenAI(model=\"gpt-4o-mini\",temperature=0)\n",
        "\n",
        "# Define prompt template\n",
        "prompt_template = ChatPromptTemplate.from_messages(\n",
        "    [\n",
        "        (\"system\", \"You are an expert product reviewer.\"),\n",
        "        (\"human\", \"List the main features of the product {product_name}.\"),\n",
        "    ]\n",
        ")\n"
      ],
      "metadata": {
        "id": "SDlr3Q1X_z7G"
      },
      "execution_count": null,
      "outputs": []
    },
    {
      "cell_type": "code",
      "source": [
        "# Define pros analysis step\n",
        "def analyze_pros(features):\n",
        "    pros_template = ChatPromptTemplate.from_messages(\n",
        "        [\n",
        "            (\"system\", \"You are an expert product reviewer.\"),\n",
        "            (\n",
        "                \"human\",\n",
        "                \"Given these features: {features}, list the pros of these features.\",\n",
        "            ),\n",
        "        ]\n",
        "    )\n",
        "    return pros_template.format_prompt(features=features)"
      ],
      "metadata": {
        "id": "IPWWP6Ph_1-l"
      },
      "execution_count": null,
      "outputs": []
    },
    {
      "cell_type": "code",
      "source": [
        "# Define cons analysis step\n",
        "def analyze_cons(features):\n",
        "    cons_template = ChatPromptTemplate.from_messages(\n",
        "        [\n",
        "            (\"system\", \"You are an expert product reviewer.\"),\n",
        "            (\n",
        "                \"human\",\n",
        "                \"Given these features: {features}, list the cons of these features.\",\n",
        "            ),\n",
        "        ]\n",
        "    )\n",
        "    return cons_template.format_prompt(features=features)"
      ],
      "metadata": {
        "id": "sHR-smzRAA5O"
      },
      "execution_count": null,
      "outputs": []
    },
    {
      "cell_type": "code",
      "source": [
        "# Combine pros and cons into a final review\n",
        "def combine_pros_cons(pros, cons):\n",
        "    return f\"Pros:\\n{pros}\\n\\nCons:\\n{cons}\""
      ],
      "metadata": {
        "id": "Xji5mYP2ADnO"
      },
      "execution_count": null,
      "outputs": []
    },
    {
      "cell_type": "code",
      "source": [
        "# Simplify branches with LCEL\n",
        "pros_branch_chain = (\n",
        "    RunnableLambda(lambda x: analyze_pros(x)) | model | StrOutputParser()\n",
        ")"
      ],
      "metadata": {
        "id": "1xAEc9z5AF2u"
      },
      "execution_count": null,
      "outputs": []
    },
    {
      "cell_type": "code",
      "source": [
        "cons_branch_chain = (\n",
        "    RunnableLambda(lambda x: analyze_cons(x)) | model | StrOutputParser()\n",
        ")"
      ],
      "metadata": {
        "id": "CgS_zs1GAHsW"
      },
      "execution_count": null,
      "outputs": []
    },
    {
      "cell_type": "code",
      "source": [
        "# Create the combined chain using LangChain Expression Language (LCEL)\n",
        "chain = (\n",
        "    prompt_template\n",
        "    | model\n",
        "    | StrOutputParser()\n",
        "    | RunnableParallel(branches={\"pros\": pros_branch_chain, \"cons\": cons_branch_chain})\n",
        "    | RunnableLambda(lambda x: combine_pros_cons(x[\"branches\"][\"pros\"], x[\"branches\"][\"cons\"]))\n",
        ")"
      ],
      "metadata": {
        "id": "xWcZ8V-cAKMd"
      },
      "execution_count": null,
      "outputs": []
    },
    {
      "cell_type": "code",
      "source": [
        "# Run the chain\n",
        "result = chain.invoke({\"product_name\": \"MacBook Pro\"})\n",
        "print(result)"
      ],
      "metadata": {
        "colab": {
          "base_uri": "https://localhost:8080/"
        },
        "id": "FWI-a3XaANOV",
        "outputId": "c1ebda72-d865-4fe9-96bd-19afaf04ada1"
      },
      "execution_count": null,
      "outputs": [
        {
          "output_type": "stream",
          "name": "stdout",
          "text": [
            "Pros:\n",
            "Certainly! Here are the pros of the features associated with the MacBook Pro:\n",
            "\n",
            "1. **Display**:\n",
            "   - **Retina Display with True Tone**: Offers stunning visuals with vibrant colors and sharp details, making it ideal for graphic design, video editing, and media consumption.\n",
            "   - **High Resolution**: The high pixel density ensures that text and images are incredibly sharp, enhancing the overall viewing experience.\n",
            "   - **P3 Wide Color Gamut**: Provides a broader range of colors, which is essential for professionals in photography and video production.\n",
            "   - **High Brightness**: The ability to reach up to 1600 nits peak brightness allows for excellent visibility in various lighting conditions, including bright environments.\n",
            "\n",
            "2. **Performance**:\n",
            "   - **Apple Silicon**: The M1, M1 Pro, M1 Max, M2, and M2 Pro chips deliver exceptional performance and efficiency, allowing for smooth multitasking and handling of demanding applications.\n",
            "   - **High-Performance CPU and GPU**: Ideal for professionals who require powerful processing capabilities for tasks like video editing, 3D rendering, and software development.\n",
            "   - **Unified Memory Architecture**: Enhances performance by allowing the CPU and GPU to access the same memory pool, reducing latency and improving efficiency.\n",
            "\n",
            "3. **Battery Life**:\n",
            "   - **Long Battery Life**: Exceeding 10 hours of usage means users can work throughout the day without needing to recharge, enhancing productivity.\n",
            "   - **Fast Charging**: Reduces downtime, allowing users to quickly recharge their devices and get back to work.\n",
            "\n",
            "4. **Storage and Memory**:\n",
            "   - **Configurable Storage Options**: Up to 8TB SSD provides ample space for large files, applications, and projects, catering to professionals with extensive storage needs.\n",
            "   - **High Memory Options**: Ranging from 8GB to 96GB allows users to choose configurations that best suit their workload, ensuring optimal performance for demanding applications.\n",
            "\n",
            "5. **Keyboard and Trackpad**:\n",
            "   - **Magic Keyboard**: The refined scissor mechanism offers a comfortable and responsive typing experience, reducing fatigue during long typing sessions.\n",
            "   - **Large Force Touch Trackpad**: Provides precise control and supports a variety of gestures, enhancing productivity and user experience.\n",
            "\n",
            "6. **Ports and Connectivity**:\n",
            "   - **Multiple Thunderbolt 4 Ports**: High-speed data transfer and connectivity options allow for versatile use with various peripherals and external displays.\n",
            "   - **HDMI Port and SD Card Slot**: Convenient for professionals who frequently connect to external displays or transfer media from cameras.\n",
            "   - **MagSafe 3 Charging Port**: Offers a secure and easy way to charge the laptop, reducing the risk of accidental disconnections.\n",
            "\n",
            "7. **Audio and Video**:\n",
            "   - **High-Fidelity Six-Speaker Sound System**: Delivers immersive audio quality, making it great for media consumption and creative work.\n",
            "   - **Studio-Quality Microphone Array**: Ensures clear audio capture for video calls, podcasts, and recordings, enhancing communication quality.\n",
            "   - **1080p FaceTime HD Camera**: Provides improved video quality for virtual meetings and calls, making it suitable for professional use.\n",
            "\n",
            "8. **Operating System**:\n",
            "   - **macOS Optimization**: Seamless integration with Apple’s ecosystem enhances productivity and user experience, especially for those using multiple Apple devices.\n",
            "\n",
            "9. **Design**:\n",
            "   - **Sleek and Lightweight Aluminum Chassis**: Offers durability and a premium feel while remaining portable, making it easy to carry for professionals on the go.\n",
            "   - **Multiple Color Options**: Allows users to choose a design that reflects their personal style.\n",
            "\n",
            "10. **Security**:\n",
            "    - **Touch ID**: Provides secure authentication and easy access to Apple Pay, enhancing user convenience and security.\n",
            "    - **Secure Enclave**: Offers advanced security features, protecting sensitive data and ensuring user privacy.\n",
            "\n",
            "Overall, the MacBook Pro's features combine to create a powerful, versatile, and user-friendly laptop that meets the needs of professionals and power users across various fields.\n",
            "\n",
            "Cons:\n",
            "While the MacBook Pro is widely regarded as a high-performance laptop with numerous advantages, it also has some drawbacks associated with its features. Here are the cons of the features listed:\n",
            "\n",
            "1. **Display**:\n",
            "   - **Price**: The high-resolution Retina display can contribute to the overall cost of the laptop, making it less accessible for budget-conscious consumers.\n",
            "   - **Reflectivity**: The glossy finish of the display can lead to glare in bright environments, which may hinder visibility.\n",
            "\n",
            "2. **Performance**:\n",
            "   - **Limited Upgradeability**: The unified memory architecture and soldered components mean that users cannot upgrade RAM or storage after purchase, which can be a drawback for those who may need more power in the future.\n",
            "   - **Thermal Management**: While Apple Silicon chips are efficient, under heavy workloads, the laptop may experience thermal throttling, which can affect performance.\n",
            "\n",
            "3. **Battery Life**:\n",
            "   - **Real-World Usage**: Battery life can vary significantly based on usage patterns, and demanding applications may lead to shorter battery life than advertised.\n",
            "   - **Charging Speed**: While fast charging is available, it may still take a considerable amount of time to fully charge the battery compared to some competitors.\n",
            "\n",
            "4. **Storage and Memory**:\n",
            "   - **High Cost for Upgrades**: Configurable storage options can be very expensive, especially for higher capacities, which may deter users from opting for the best configurations.\n",
            "   - **Limited Base Options**: The base models may come with lower storage and memory, which may not be sufficient for power users.\n",
            "\n",
            "5. **Keyboard and Trackpad**:\n",
            "   - **Key Travel**: Some users may prefer a different key travel or feel, as the Magic Keyboard may not suit everyone's typing preferences.\n",
            "   - **Trackpad Size**: While the large trackpad is generally praised, it can be overly sensitive for some users, leading to accidental gestures.\n",
            "\n",
            "6. **Ports and Connectivity**:\n",
            "   - **Limited Port Variety**: While Thunderbolt 4 ports are versatile, the lack of traditional USB-A ports and other common connectors may require users to invest in adapters.\n",
            "   - **Port Placement**: The placement of ports can be inconvenient for some users, especially when connecting multiple devices.\n",
            "\n",
            "7. **Audio and Video**:\n",
            "   - **Camera Quality**: Despite the 1080p FaceTime HD camera, it may still lag behind some competitors in low-light performance and overall image quality.\n",
            "   - **Speaker Volume**: While the audio system is high-fidelity, some users may find the maximum volume insufficient for larger spaces.\n",
            "\n",
            "8. **Operating System**:\n",
            "   - **Software Compatibility**: Some users may encounter compatibility issues with specific software applications that are not optimized for macOS, particularly in specialized fields.\n",
            "   - **Learning Curve**: Users transitioning from Windows may face a learning curve when adapting to macOS.\n",
            "\n",
            "9. **Design**:\n",
            "   - **Weight**: While the MacBook Pro is relatively lightweight for a high-performance laptop, it can still be heavier than some ultrabooks, making it less portable for some users.\n",
            "   - **Durability Concerns**: The aluminum chassis, while premium, can be prone to scratches and dents if not handled carefully.\n",
            "\n",
            "10. **Security**:\n",
            "    - **Privacy Concerns**: Some users may have concerns about the data collected by Apple for Touch ID and other security features.\n",
            "    - **Dependence on Apple Ecosystem**: The security features are optimized for users within the Apple ecosystem, which may not be ideal for those who use a mix of devices.\n",
            "\n",
            "Overall, while the MacBook Pro offers a range of impressive features, potential buyers should consider these drawbacks in relation to their specific needs and preferences.\n"
          ]
        }
      ]
    },
    {
      "cell_type": "code",
      "source": [],
      "metadata": {
        "id": "YgsLEBZZAQDW"
      },
      "execution_count": null,
      "outputs": []
    }
  ]
}